{
 "cells": [
  {
   "cell_type": "code",
   "execution_count": null,
   "metadata": {},
   "outputs": [],
   "source": [
    "import numpy as np\n",
    "from nltk.corpus import wordnet as wn\n",
    "from stanfordcorenlp import StanfordCoreNLP\n",
    "import re\n",
    "import bisect\n",
    "from collections import defaultdict\n",
    "import ast\n",
    "import os\n",
    "from gutenberg.cleanup import strip_headers\n",
    "from nltk.tokenize import sent_tokenize\n",
    "from bs4 import BeautifulSoup\n",
    "import math\n",
    "import gensim\n",
    "import pickle\n",
    "from scipy import spatial\n",
    "from nltk.tree import *\n",
    "import nltk.corpus\n",
    "import nltk.tokenize.punkt\n",
    "import nltk.stem.snowball\n",
    "import string\n",
    "from multiprocessing import Pool\n",
    "from nltk.draw.tree import TreeView\n",
    "from fuzzywuzzy import fuzz\n",
    "from multiprocessing import Pool\n",
    "from nltk import word_tokenize,pos_tag\n",
    "from nltk.corpus import wordnet \n",
    "from operator import itemgetter\n",
    "from treeFunctions import *\n",
    "from dependencies import *\n",
    "from detect import *\n"
   ]
  },
  {
   "cell_type": "code",
   "execution_count": null,
   "metadata": {},
   "outputs": [],
   "source": [
    "pickle_off = open(\"../output/testPackage/parseTrees.pickle\",\"rb\")\n",
    "parseTrees = pickle.load(pickle_off)"
   ]
  },
  {
   "cell_type": "code",
   "execution_count": null,
   "metadata": {},
   "outputs": [],
   "source": [
    "s=0\n",
    "for i in range(len(parseTrees)):\n",
    "    s=s+len(parseTrees[i])"
   ]
  },
  {
   "cell_type": "code",
   "execution_count": null,
   "metadata": {},
   "outputs": [],
   "source": [
    "s"
   ]
  },
  {
   "cell_type": "code",
   "execution_count": null,
   "metadata": {},
   "outputs": [],
   "source": [
    "from detect import *"
   ]
  },
  {
   "cell_type": "code",
   "execution_count": null,
   "metadata": {},
   "outputs": [],
   "source": [
    "d=detect(inputFolder='../data/temp/')"
   ]
  },
  {
   "cell_type": "code",
   "execution_count": null,
   "metadata": {},
   "outputs": [],
   "source": [
    "text=d.loadNew()"
   ]
  },
  {
   "cell_type": "code",
   "execution_count": null,
   "metadata": {},
   "outputs": [],
   "source": [
    "len(text)"
   ]
  },
  {
   "cell_type": "code",
   "execution_count": null,
   "metadata": {},
   "outputs": [],
   "source": [
    "textChunks=d.splitChunks(text)"
   ]
  },
  {
   "cell_type": "code",
   "execution_count": null,
   "metadata": {},
   "outputs": [],
   "source": [
    "s=0\n",
    "for i in range(len(textChunks)):\n",
    "    s=s+len(textChunks[i])"
   ]
  },
  {
   "cell_type": "code",
   "execution_count": null,
   "metadata": {},
   "outputs": [],
   "source": [
    "s"
   ]
  },
  {
   "cell_type": "code",
   "execution_count": null,
   "metadata": {},
   "outputs": [],
   "source": [
    "pickle_off = open(\"../output/testPackage/orderedTuples.pickle\",\"rb\")\n",
    "newTuples = pickle.load(pickle_off)"
   ]
  },
  {
   "cell_type": "code",
   "execution_count": null,
   "metadata": {},
   "outputs": [],
   "source": [
    "pickle_off = open(\"../output/testPackage/reducedBooks.pickle\",\"rb\")\n",
    "reducedBooks = pickle.load(pickle_off)"
   ]
  },
  {
   "cell_type": "code",
   "execution_count": null,
   "metadata": {},
   "outputs": [],
   "source": [
    "for tup in newTuples:\n",
    "    print(text[tup[0]])\n",
    "    print('\\n')\n",
    "    print(reducedBooks[tup[1]][tup[2]])\n",
    "    print('\\n\\n')"
   ]
  },
  {
   "cell_type": "code",
   "execution_count": null,
   "metadata": {},
   "outputs": [],
   "source": [
    "pickle_off = open(\"../output/package-test/parseTrees.pickle\",\"rb\")\n",
    "parseTrees = pickle.load(pickle_off)"
   ]
  },
  {
   "cell_type": "code",
   "execution_count": null,
   "metadata": {},
   "outputs": [],
   "source": [
    "len(parseTrees)"
   ]
  },
  {
   "cell_type": "code",
   "execution_count": null,
   "metadata": {},
   "outputs": [],
   "source": [
    "s=0\n",
    "for i in range(len(parseTrees)):\n",
    "    s=s+len(parseTrees[i])"
   ]
  },
  {
   "cell_type": "code",
   "execution_count": null,
   "metadata": {},
   "outputs": [],
   "source": [
    "s"
   ]
  },
  {
   "cell_type": "code",
   "execution_count": null,
   "metadata": {},
   "outputs": [],
   "source": [
    "pickle_off = open(\"../output/package-test/reducedBooks.pickle\",\"rb\")\n",
    "reducedBooks = pickle.load(pickle_off)"
   ]
  },
  {
   "cell_type": "code",
   "execution_count": null,
   "metadata": {},
   "outputs": [],
   "source": [
    "len(reducedBooks['samuel-1'])"
   ]
  },
  {
   "cell_type": "code",
   "execution_count": null,
   "metadata": {},
   "outputs": [],
   "source": [
    "pickle_off = open(\"../output/package-test/potentialParseTrees.pickle\",\"rb\")\n",
    "potentialParseTrees = pickle.load(pickle_off)"
   ]
  },
  {
   "cell_type": "code",
   "execution_count": null,
   "metadata": {},
   "outputs": [],
   "source": [
    "len(potentialParseTrees['isaiah'])"
   ]
  },
  {
   "cell_type": "code",
   "execution_count": null,
   "metadata": {},
   "outputs": [],
   "source": [
    "pickle_off = open(\"../output/package-test/scoreTuples.pickle\",\"rb\")\n",
    "scoreTuples = pickle.load(pickle_off)"
   ]
  },
  {
   "cell_type": "code",
   "execution_count": null,
   "metadata": {},
   "outputs": [],
   "source": [
    "len(scoreTuples)"
   ]
  },
  {
   "cell_type": "markdown",
   "metadata": {},
   "source": [
    "###  debugging paragraph detect"
   ]
  },
  {
   "cell_type": "code",
   "execution_count": null,
   "metadata": {},
   "outputs": [],
   "source": [
    "from detectParagraph import *"
   ]
  },
  {
   "cell_type": "code",
   "execution_count": null,
   "metadata": {},
   "outputs": [],
   "source": [
    "d=detectParagraph(inputFolder='../data/temp/',outputFolder='../output/paragraphTest/')"
   ]
  },
  {
   "cell_type": "code",
   "execution_count": null,
   "metadata": {},
   "outputs": [],
   "source": [
    "text=d.loadNew()"
   ]
  },
  {
   "cell_type": "code",
   "execution_count": null,
   "metadata": {},
   "outputs": [],
   "source": [
    "books=d.loadCandidates()"
   ]
  },
  {
   "cell_type": "code",
   "execution_count": null,
   "metadata": {},
   "outputs": [],
   "source": [
    "textPara=d.splitNewPara(text)"
   ]
  },
  {
   "cell_type": "code",
   "execution_count": null,
   "metadata": {},
   "outputs": [],
   "source": [
    "len(textPara)"
   ]
  },
  {
   "cell_type": "code",
   "execution_count": null,
   "metadata": {},
   "outputs": [],
   "source": [
    "len(text)"
   ]
  },
  {
   "cell_type": "code",
   "execution_count": null,
   "metadata": {},
   "outputs": [],
   "source": [
    "len(books['isaiah'])"
   ]
  },
  {
   "cell_type": "code",
   "execution_count": null,
   "metadata": {},
   "outputs": [],
   "source": [
    "booksPara=d.splitCandidatesPara(books)"
   ]
  },
  {
   "cell_type": "code",
   "execution_count": null,
   "metadata": {},
   "outputs": [],
   "source": [
    "len(booksPara['isaiah'])"
   ]
  },
  {
   "cell_type": "code",
   "execution_count": null,
   "metadata": {},
   "outputs": [],
   "source": [
    "textChunks=d.splitChunks(textPara)"
   ]
  },
  {
   "cell_type": "code",
   "execution_count": null,
   "metadata": {},
   "outputs": [],
   "source": [
    "len(textChunks)"
   ]
  },
  {
   "cell_type": "code",
   "execution_count": null,
   "metadata": {},
   "outputs": [],
   "source": [
    "textChunks[0]"
   ]
  },
  {
   "cell_type": "code",
   "execution_count": null,
   "metadata": {},
   "outputs": [],
   "source": [
    "reducedParagraphs=d.filterWithJacard(textChunks,booksPara,0.2)"
   ]
  },
  {
   "cell_type": "code",
   "execution_count": null,
   "metadata": {},
   "outputs": [],
   "source": [
    "len(reducedParagraphs['jeremiah-1'])"
   ]
  },
  {
   "cell_type": "code",
   "execution_count": null,
   "metadata": {},
   "outputs": [],
   "source": [
    "parseTrees=d.parseNewBook(textChunks)"
   ]
  },
  {
   "cell_type": "code",
   "execution_count": null,
   "metadata": {},
   "outputs": [],
   "source": [
    "len(parseTrees[0])"
   ]
  },
  {
   "cell_type": "code",
   "execution_count": null,
   "metadata": {},
   "outputs": [],
   "source": [
    "len(parseTrees[0][0])"
   ]
  },
  {
   "cell_type": "code",
   "execution_count": null,
   "metadata": {},
   "outputs": [],
   "source": [
    "potentialParseTrees=d.parseCandidates(reducedParagraphs)"
   ]
  },
  {
   "cell_type": "code",
   "execution_count": null,
   "metadata": {},
   "outputs": [],
   "source": [
    "len(potentialParseTrees['isaiah'][0])"
   ]
  },
  {
   "cell_type": "code",
   "execution_count": null,
   "metadata": {},
   "outputs": [],
   "source": [
    "syntacticScores=d.syntacticScoring(parseTrees,potentialParseTrees)"
   ]
  },
  {
   "cell_type": "code",
   "execution_count": null,
   "metadata": {},
   "outputs": [],
   "source": [
    "semanticScore=d.semanticScoring(textPara,reducedParagraphs)"
   ]
  },
  {
   "cell_type": "code",
   "execution_count": null,
   "metadata": {},
   "outputs": [],
   "source": [
    "len(semanticScore[0])"
   ]
  },
  {
   "cell_type": "code",
   "execution_count": null,
   "metadata": {},
   "outputs": [],
   "source": [
    "semanticScore[0]"
   ]
  },
  {
   "cell_type": "code",
   "execution_count": null,
   "metadata": {},
   "outputs": [],
   "source": [
    "scoreTuples=d.aggregateScoring(syntacticScores,semanticScore)\n",
    "finalTuples=d.finalFiltering(scoreTuples,reducedParagraphs)\n"
   ]
  },
  {
   "cell_type": "code",
   "execution_count": null,
   "metadata": {},
   "outputs": [],
   "source": [
    "len(scoreTuples)"
   ]
  },
  {
   "cell_type": "code",
   "execution_count": null,
   "metadata": {},
   "outputs": [],
   "source": [
    "len(finalTuples)"
   ]
  },
  {
   "cell_type": "code",
   "execution_count": null,
   "metadata": {},
   "outputs": [],
   "source": [
    "newTuples=d.nounBasedRanking(finalTuples,textPara,reducedParagraphs)"
   ]
  },
  {
   "cell_type": "code",
   "execution_count": null,
   "metadata": {},
   "outputs": [],
   "source": [
    "len(newTuples)"
   ]
  },
  {
   "cell_type": "markdown",
   "metadata": {},
   "source": [
    "#### Debugging paragraph detection"
   ]
  },
  {
   "cell_type": "code",
   "execution_count": 1,
   "metadata": {},
   "outputs": [],
   "source": [
    "from detectParagraph import  *"
   ]
  },
  {
   "cell_type": "code",
   "execution_count": 2,
   "metadata": {},
   "outputs": [],
   "source": [
    "d=detectParagraph(inputFolder='../data/temp/',outputFolder='../output/temp/',cores=40)"
   ]
  },
  {
   "cell_type": "code",
   "execution_count": 3,
   "metadata": {},
   "outputs": [
    {
     "name": "stdout",
     "output_type": "stream",
     "text": [
      "isaiah\n",
      "jeremiah-1\n"
     ]
    }
   ],
   "source": [
    "text=d.loadNew()\n",
    "books=d.loadCandidates()"
   ]
  },
  {
   "cell_type": "code",
   "execution_count": 4,
   "metadata": {},
   "outputs": [
    {
     "data": {
      "text/plain": [
       "60"
      ]
     },
     "execution_count": 4,
     "metadata": {},
     "output_type": "execute_result"
    }
   ],
   "source": [
    "len(text)"
   ]
  },
  {
   "cell_type": "code",
   "execution_count": 5,
   "metadata": {},
   "outputs": [
    {
     "data": {
      "text/plain": [
       "'The New Testament of the King James Bible     The Gospel According to Saint Matthew   1.'"
      ]
     },
     "execution_count": 5,
     "metadata": {},
     "output_type": "execute_result"
    }
   ],
   "source": [
    "text[0]"
   ]
  },
  {
   "cell_type": "code",
   "execution_count": 6,
   "metadata": {},
   "outputs": [],
   "source": [
    "text=text[:45]"
   ]
  },
  {
   "cell_type": "code",
   "execution_count": 7,
   "metadata": {},
   "outputs": [
    {
     "data": {
      "text/plain": [
       "2089"
      ]
     },
     "execution_count": 7,
     "metadata": {},
     "output_type": "execute_result"
    }
   ],
   "source": [
    "len(books['isaiah'])"
   ]
  },
  {
   "cell_type": "code",
   "execution_count": 8,
   "metadata": {},
   "outputs": [
    {
     "data": {
      "text/plain": [
       "2108"
      ]
     },
     "execution_count": 8,
     "metadata": {},
     "output_type": "execute_result"
    }
   ],
   "source": [
    "len(books['jeremiah-1'])"
   ]
  },
  {
   "cell_type": "code",
   "execution_count": 9,
   "metadata": {},
   "outputs": [
    {
     "data": {
      "text/plain": [
       "'The Book of the Prophet Isaiah\\n\\n\\n1.'"
      ]
     },
     "execution_count": 9,
     "metadata": {},
     "output_type": "execute_result"
    }
   ],
   "source": [
    "books['isaiah'][0]"
   ]
  },
  {
   "cell_type": "code",
   "execution_count": 10,
   "metadata": {},
   "outputs": [],
   "source": [
    "textPara=d.splitNewPara(text)\n",
    "booksPara=d.splitCandidatesPara(books)"
   ]
  },
  {
   "cell_type": "code",
   "execution_count": 11,
   "metadata": {},
   "outputs": [
    {
     "data": {
      "text/plain": [
       "43"
      ]
     },
     "execution_count": 11,
     "metadata": {},
     "output_type": "execute_result"
    }
   ],
   "source": [
    "len(textPara)"
   ]
  },
  {
   "cell_type": "code",
   "execution_count": 12,
   "metadata": {},
   "outputs": [
    {
     "data": {
      "text/plain": [
       "'The New Testament of the King James Bible     The Gospel According to Saint Matthew   1. 1 The book of the generation of Jesus Christ, the son of David, the son of Abraham. 2 Abraham begat Isaac; and Isaac begat Jacob; and Jacob begat Judas and his brethren; 1.'"
      ]
     },
     "execution_count": 12,
     "metadata": {},
     "output_type": "execute_result"
    }
   ],
   "source": [
    "textPara[0]"
   ]
  },
  {
   "cell_type": "code",
   "execution_count": 13,
   "metadata": {},
   "outputs": [
    {
     "data": {
      "text/plain": [
       "2087"
      ]
     },
     "execution_count": 13,
     "metadata": {},
     "output_type": "execute_result"
    }
   ],
   "source": [
    "len(booksPara['isaiah'])"
   ]
  },
  {
   "cell_type": "code",
   "execution_count": 14,
   "metadata": {},
   "outputs": [
    {
     "data": {
      "text/plain": [
       "2106"
      ]
     },
     "execution_count": 14,
     "metadata": {},
     "output_type": "execute_result"
    }
   ],
   "source": [
    "len(booksPara['jeremiah-1'])"
   ]
  },
  {
   "cell_type": "code",
   "execution_count": 15,
   "metadata": {},
   "outputs": [
    {
     "data": {
      "text/plain": [
       "'The Book of the Prophet Isaiah\\n\\n\\n1. 1 The vision of Isaiah the son of Amoz, which he saw concerning\\nJudah and Jerusalem in the days of Uzziah, Jotham, Ahaz, and Hezekiah,\\nkings of Judah. 2 Hear, O heavens, and give ear, O earth.'"
      ]
     },
     "execution_count": 15,
     "metadata": {},
     "output_type": "execute_result"
    }
   ],
   "source": [
    "booksPara['isaiah'][0]"
   ]
  },
  {
   "cell_type": "code",
   "execution_count": 16,
   "metadata": {},
   "outputs": [],
   "source": [
    "textChunks=d.splitChunks(textPara)"
   ]
  },
  {
   "cell_type": "code",
   "execution_count": 17,
   "metadata": {},
   "outputs": [
    {
     "data": {
      "text/plain": [
       "40"
      ]
     },
     "execution_count": 17,
     "metadata": {},
     "output_type": "execute_result"
    }
   ],
   "source": [
    "len(textChunks)"
   ]
  },
  {
   "cell_type": "code",
   "execution_count": 18,
   "metadata": {},
   "outputs": [],
   "source": [
    "s=0\n",
    "for m in textChunks:\n",
    "    s=s+len(m)\n",
    "    "
   ]
  },
  {
   "cell_type": "code",
   "execution_count": 19,
   "metadata": {},
   "outputs": [
    {
     "data": {
      "text/plain": [
       "43"
      ]
     },
     "execution_count": 19,
     "metadata": {},
     "output_type": "execute_result"
    }
   ],
   "source": [
    "s"
   ]
  },
  {
   "cell_type": "code",
   "execution_count": 20,
   "metadata": {},
   "outputs": [
    {
     "data": {
      "text/plain": [
       "['7 Then Herod, when he had privily called the wise men, enquired of them diligently what time the star appeared. 8 And he sent them to Bethlehem, and said, Go and search diligently for the young child; and when ye have found him, bring me word again, that I may come and worship him also. 9 When they had heard the king, they departed; and, lo, the star, which they saw in the east, went before them, till it came and stood over where the young child was.',\n",
       " '8 And he sent them to Bethlehem, and said, Go and search diligently for the young child; and when ye have found him, bring me word again, that I may come and worship him also. 9 When they had heard the king, they departed; and, lo, the star, which they saw in the east, went before them, till it came and stood over where the young child was. 10 When they saw the star, they rejoiced with exceeding great joy.',\n",
       " '9 When they had heard the king, they departed; and, lo, the star, which they saw in the east, went before them, till it came and stood over where the young child was. 10 When they saw the star, they rejoiced with exceeding great joy. 11 And when they were come into the house, they saw the young child with Mary his mother, and fell down, and worshipped him.',\n",
       " '10 When they saw the star, they rejoiced with exceeding great joy. 11 And when they were come into the house, they saw the young child with Mary his mother, and fell down, and worshipped him. and when they had opened their treasures, they presented unto him gifts; gold, and frankincense and myrrh.']"
      ]
     },
     "execution_count": 20,
     "metadata": {},
     "output_type": "execute_result"
    }
   ],
   "source": [
    "textChunks[-1]"
   ]
  },
  {
   "cell_type": "code",
   "execution_count": 21,
   "metadata": {},
   "outputs": [],
   "source": [
    "spacyTextChunks,spacyBooksPara,spacyText=d.spacyExtract(textChunks,booksPara)"
   ]
  },
  {
   "cell_type": "code",
   "execution_count": 22,
   "metadata": {},
   "outputs": [
    {
     "data": {
      "text/plain": [
       "4"
      ]
     },
     "execution_count": 22,
     "metadata": {},
     "output_type": "execute_result"
    }
   ],
   "source": [
    "len(spacyTextChunks[-1])"
   ]
  },
  {
   "cell_type": "code",
   "execution_count": 23,
   "metadata": {},
   "outputs": [
    {
     "data": {
      "text/plain": [
       "2087"
      ]
     },
     "execution_count": 23,
     "metadata": {},
     "output_type": "execute_result"
    }
   ],
   "source": [
    "len(spacyBooksPara['isaiah'])"
   ]
  },
  {
   "cell_type": "code",
   "execution_count": 24,
   "metadata": {},
   "outputs": [
    {
     "data": {
      "text/plain": [
       "43"
      ]
     },
     "execution_count": 24,
     "metadata": {},
     "output_type": "execute_result"
    }
   ],
   "source": [
    "len(spacyText)"
   ]
  },
  {
   "cell_type": "code",
   "execution_count": 25,
   "metadata": {},
   "outputs": [
    {
     "data": {
      "text/plain": [
       "[7 Then Herod, when he had privily called the wise men, enquired of them diligently what time the star appeared. 8 And he sent them to Bethlehem, and said, Go and search diligently for the young child; and when ye have found him, bring me word again, that I may come and worship him also. 9 When they had heard the king, they departed; and, lo, the star, which they saw in the east, went before them, till it came and stood over where the young child was.,\n",
       " 8 And he sent them to Bethlehem, and said, Go and search diligently for the young child; and when ye have found him, bring me word again, that I may come and worship him also. 9 When they had heard the king, they departed; and, lo, the star, which they saw in the east, went before them, till it came and stood over where the young child was. 10 When they saw the star, they rejoiced with exceeding great joy.,\n",
       " 9 When they had heard the king, they departed; and, lo, the star, which they saw in the east, went before them, till it came and stood over where the young child was. 10 When they saw the star, they rejoiced with exceeding great joy. 11 And when they were come into the house, they saw the young child with Mary his mother, and fell down, and worshipped him.,\n",
       " 10 When they saw the star, they rejoiced with exceeding great joy. 11 And when they were come into the house, they saw the young child with Mary his mother, and fell down, and worshipped him. and when they had opened their treasures, they presented unto him gifts; gold, and frankincense and myrrh.]"
      ]
     },
     "execution_count": 25,
     "metadata": {},
     "output_type": "execute_result"
    }
   ],
   "source": [
    "spacyTextChunks[-1]"
   ]
  },
  {
   "cell_type": "code",
   "execution_count": 26,
   "metadata": {},
   "outputs": [
    {
     "data": {
      "text/plain": [
       "10 When they saw the star, they rejoiced with exceeding great joy. 11 And when they were come into the house, they saw the young child with Mary his mother, and fell down, and worshipped him. and when they had opened their treasures, they presented unto him gifts; gold, and frankincense and myrrh."
      ]
     },
     "execution_count": 26,
     "metadata": {},
     "output_type": "execute_result"
    }
   ],
   "source": [
    "spacyText[-1]"
   ]
  },
  {
   "cell_type": "code",
   "execution_count": 27,
   "metadata": {},
   "outputs": [],
   "source": [
    "reducedSpacyBooks,reducedSentences=d.filterWithJacard(spacyTextChunks,spacyBooksPara,threshold=0.15)"
   ]
  },
  {
   "cell_type": "code",
   "execution_count": 28,
   "metadata": {},
   "outputs": [],
   "source": [
    "reducedBooks=d.filterOriginalBooks(reducedSentences,booksPara)"
   ]
  },
  {
   "cell_type": "code",
   "execution_count": 29,
   "metadata": {},
   "outputs": [
    {
     "data": {
      "text/plain": [
       "123"
      ]
     },
     "execution_count": 29,
     "metadata": {},
     "output_type": "execute_result"
    }
   ],
   "source": [
    "len(reducedSpacyBooks['isaiah'])"
   ]
  },
  {
   "cell_type": "code",
   "execution_count": 30,
   "metadata": {},
   "outputs": [
    {
     "data": {
      "text/plain": [
       "170"
      ]
     },
     "execution_count": 30,
     "metadata": {},
     "output_type": "execute_result"
    }
   ],
   "source": [
    "len(reducedSpacyBooks['jeremiah-1'])"
   ]
  },
  {
   "cell_type": "code",
   "execution_count": 31,
   "metadata": {},
   "outputs": [
    {
     "data": {
      "text/plain": [
       "[The Book of the Prophet Isaiah\n",
       " \n",
       " \n",
       " 1. 1 The vision of Isaiah the son of Amoz, which he saw concerning\n",
       " Judah and Jerusalem in the days of Uzziah, Jotham, Ahaz, and Hezekiah,\n",
       " kings of Judah. 2 Hear, O heavens, and give ear, O earth.,\n",
       " 1 The vision of Isaiah the son of Amoz, which he saw concerning\n",
       " Judah and Jerusalem in the days of Uzziah, Jotham, Ahaz, and Hezekiah,\n",
       " kings of Judah. 2 Hear, O heavens, and give ear, O earth. for the LORD hath spoken,\n",
       " I have nourished and brought up children, and they have rebelled\n",
       " against me.,\n",
       " 7 Before she travailed, she brought forth; before her pain came,\n",
       " she was delivered of a man child. 8 Who hath heard such a thing? who hath seen such things?,\n",
       " for as soon as Zion travailed, she brought forth her children. 9 Shall I bring to the birth, and not cause to bring forth? saith\n",
       " the LORD.,\n",
       " saith\n",
       " the LORD. shall I cause to bring forth, and shut the womb? saith thy\n",
       " God.,\n",
       " 12 But Rabshakeh said, Hath my master sent me to thy master and to\n",
       " thee to speak these words? hath he not sent me to the men that sit\n",
       " upon the wall, that they may eat their own dung, and drink their own\n",
       " piss with you? 13 Then Rabshakeh stood, and cried with a loud\n",
       " voice in the Jews' language, and said, Hear ye the words of the great\n",
       " king, the king of Assyria.,\n",
       " 22 They shall not build, and another inhabit; they shall not plant,\n",
       " and another eat. for as the days of a tree are the days of my people,\n",
       " and mine elect shall long enjoy the work of their hands. 23 They shall not labour in vain, nor bring forth for trouble; for\n",
       " they are the seed of the blessed of the LORD, and their offspring with\n",
       " them.,\n",
       " hath he not sent me to the men that sit\n",
       " upon the wall, that they may eat their own dung, and drink their own\n",
       " piss with you? 13 Then Rabshakeh stood, and cried with a loud\n",
       " voice in the Jews' language, and said, Hear ye the words of the great\n",
       " king, the king of Assyria. 14 Thus saith the king, Let not Hezekiah deceive you.,\n",
       " for as the days of a tree are the days of my people,\n",
       " and mine elect shall long enjoy the work of their hands. 23 They shall not labour in vain, nor bring forth for trouble; for\n",
       " they are the seed of the blessed of the LORD, and their offspring with\n",
       " them. 24 And it shall come to pass, that before they call, I will answer;\n",
       " and while they are yet speaking, I will hear.,\n",
       " I will also give thee for a light to the Gentiles, that\n",
       " thou mayest be my salvation unto the end of the earth. 7 Thus saith the LORD, the Redeemer of Israel, and his Holy One, to\n",
       " him whom man despiseth, to him whom the nation abhorreth, to a servant\n",
       " of rulers, Kings shall see and arise, princes also shall worship,\n",
       " because of the LORD that is faithful, and the Holy One of Israel, and\n",
       " he shall choose thee. 8 Thus saith the LORD, In an acceptable time have I heard thee, and\n",
       " in a day of salvation have I helped thee.,\n",
       " 7 Thus saith the LORD, the Redeemer of Israel, and his Holy One, to\n",
       " him whom man despiseth, to him whom the nation abhorreth, to a servant\n",
       " of rulers, Kings shall see and arise, princes also shall worship,\n",
       " because of the LORD that is faithful, and the Holy One of Israel, and\n",
       " he shall choose thee. 8 Thus saith the LORD, In an acceptable time have I heard thee, and\n",
       " in a day of salvation have I helped thee. and I will preserve thee,\n",
       " and give thee for a covenant of the people, to establish the earth, to\n",
       " cause to inherit the desolate heritages; 49.,\n",
       " 1 And it came to pass, when king Hezekiah heard it, that he rent\n",
       " his clothes, and covered himself with sackcloth, and went into the\n",
       " house of the LORD. 2 And he sent Eliakim, who was over the household, and Shebna the\n",
       " scribe, and the elders of the priests covered with sackcloth, unto\n",
       " Isaiah the prophet the son of Amoz. 3 And they said unto him, Thus saith Hezekiah, This day is a day of\n",
       " trouble, and of rebuke, and of blasphemy.,\n",
       " 2 And he sent Eliakim, who was over the household, and Shebna the\n",
       " scribe, and the elders of the priests covered with sackcloth, unto\n",
       " Isaiah the prophet the son of Amoz. 3 And they said unto him, Thus saith Hezekiah, This day is a day of\n",
       " trouble, and of rebuke, and of blasphemy. for the children are come to\n",
       " the birth, and there is not strength to bring forth.,\n",
       " 3 And they said unto him, Thus saith Hezekiah, This day is a day of\n",
       " trouble, and of rebuke, and of blasphemy. for the children are come to\n",
       " the birth, and there is not strength to bring forth. 4 It may be the LORD thy God will hear the words of Rabshakeh, whom\n",
       " the king of Assyria his master hath sent to reproach the living God,\n",
       " and will reprove the words which the LORD thy God hath heard.,\n",
       " for the children are come to\n",
       " the birth, and there is not strength to bring forth. 4 It may be the LORD thy God will hear the words of Rabshakeh, whom\n",
       " the king of Assyria his master hath sent to reproach the living God,\n",
       " and will reprove the words which the LORD thy God hath heard. wherefore lift up thy prayer for the remnant that is left.,\n",
       " 5 So the servants of king Hezekiah came to Isaiah. 6 And Isaiah said unto them, Thus shall ye say unto your master,\n",
       " Thus saith the LORD, Be not afraid of the words that thou hast heard,\n",
       " wherewith the servants of the king of Assyria have blasphemed me. 7 Behold, I will send a blast upon him, and he shall hear a rumour,\n",
       " and return to his own land; and I will cause him to fall by the sword\n",
       " in his own land.,\n",
       " 8 So Rabshakeh returned, and found the king of Assyria warring\n",
       " against Libnah. for he had heard that he was departed from Lachish. 9 And he heard say concerning Tirhakah king of Ethiopia, He is come\n",
       " forth to make war with thee.,\n",
       " for he had heard that he was departed from Lachish. 9 And he heard say concerning Tirhakah king of Ethiopia, He is come\n",
       " forth to make war with thee. And when he heard it, he sent messengers\n",
       " to Hezekiah, saying, 37.,\n",
       " give place to me that I may dwell. 21 Then shalt thou say in thine heart, Who hath begotten me these,\n",
       " seeing I have lost my children, and am desolate, a captive, and\n",
       " removing to and fro? and who hath brought up these?,\n",
       " and who hath brought up these? Behold, I was left\n",
       " alone; these, where had they been? 22 Thus saith the Lord GOD,\n",
       " Behold, I will lift up mine hand to the Gentiles, and set up my\n",
       " standard to the people.,\n",
       " Behold, I was left\n",
       " alone; these, where had they been? 22 Thus saith the Lord GOD,\n",
       " Behold, I will lift up mine hand to the Gentiles, and set up my\n",
       " standard to the people. and they shall bring thy sons in their arms,\n",
       " and thy daughters shall be carried upon their shoulders.,\n",
       " 22 Thus saith the Lord GOD,\n",
       " Behold, I will lift up mine hand to the Gentiles, and set up my\n",
       " standard to the people. and they shall bring thy sons in their arms,\n",
       " and thy daughters shall be carried upon their shoulders. 23 And kings shall be thy nursing fathers, and their queens thy\n",
       " nursing mothers.,\n",
       " and they shall bring thy sons in their arms,\n",
       " and thy daughters shall be carried upon their shoulders. 23 And kings shall be thy nursing fathers, and their queens thy\n",
       " nursing mothers. they shall bow down to thee with their face toward\n",
       " the earth, and lick up the dust of thy feet; and thou shalt know that\n",
       " I am the LORD.,\n",
       " 20 Now therefore, O LORD our God, save us from his hand, that all\n",
       " the kingdoms of the earth may know that thou art the LORD, even thou\n",
       " only. 21 Then Isaiah the son of Amoz sent unto Hezekiah, saying, Thus\n",
       " saith the LORD God of Israel, Whereas thou hast prayed to me against\n",
       " Sennacherib king of Assyria. 22 This is the word which the LORD\n",
       " hath spoken concerning him; The virgin, the daughter of Zion, hath\n",
       " despised thee, and laughed thee to scorn; the daughter of Jerusalem\n",
       " hath shaken her head at thee.,\n",
       " 5 Prepare the table, watch in the watchtower, eat, drink. arise, ye\n",
       " princes, and anoint the shield. 6 For thus hath the LORD said unto me, Go, set a watchman, let him\n",
       " declare what he seeth.,\n",
       " Behold, for your iniquities have ye sold\n",
       " yourselves, and for your transgressions is your mother put away. 2 Wherefore, when I came, was there no man? when I called, was\n",
       " there none to answer?,\n",
       " 2 Wherefore, when I came, was there no man? when I called, was\n",
       " there none to answer? Is my hand shortened at all, that it cannot\n",
       " redeem?,\n",
       " 17\n",
       " And the residue of the number of archers, the mighty men of the\n",
       " children of Kedar, shall be diminished. for the LORD God of Israel\n",
       " hath spoken it. 1 The burden of the valley of vision.,\n",
       " 1 In those days was Hezekiah sick unto death. And Isaiah the\n",
       " prophet the son of Amoz came unto him, and said unto him, Thus saith\n",
       " the LORD, Set thine house in order. for thou shalt die, and not live.,\n",
       " And Isaiah the\n",
       " prophet the son of Amoz came unto him, and said unto him, Thus saith\n",
       " the LORD, Set thine house in order. for thou shalt die, and not live. 2 Then Hezekiah turned his face toward the wall, and prayed unto\n",
       " the LORD, 38.,\n",
       " there shalt thou die, and there the chariots of thy\n",
       " glory shall be the shame of thy lord's house. 19 And I will drive thee from thy station, and from thy state shall\n",
       " he pull thee down. 20 And it shall come to pass in that day, that I will call my\n",
       " servant Eliakim the son of Hilkiah.,\n",
       " 17 Awake, awake, stand up, O Jerusalem, which hast drunk at the\n",
       " hand of the LORD the cup of his fury; thou hast drunken the dregs of\n",
       " the cup of trembling, and wrung them out. 18 There is none to guide her among all the sons whom she hath\n",
       " brought forth; neither is there any that taketh her by the hand of all\n",
       " the sons that she hath brought up. 19 These two things are come unto thee; who shall be sorry for\n",
       " thee?,\n",
       " 4 Be thou ashamed, O Zidon. for the sea hath spoken, even the\n",
       " strength of the sea, saying, I travail not, nor bring forth children,\n",
       " neither do I nourish up young men, nor bring up virgins. 5 As at the report concerning Egypt, so shall they be sorely pained\n",
       " at the report of Tyre.,\n",
       " 21 Therefore hear now this, thou afflicted, and drunken, but not\n",
       " with wine. 22 Thus saith thy Lord the LORD, and thy God that\n",
       " pleadeth the cause of his people, Behold, I have taken out of thine\n",
       " hand the cup of trembling, even the dregs of the cup of my fury; thou\n",
       " shalt no more drink it again. 23 But I will put it into the hand of\n",
       " them that afflict thee; which have said to thy soul, Bow down, that we\n",
       " may go over.,\n",
       " 22 Thus saith thy Lord the LORD, and thy God that\n",
       " pleadeth the cause of his people, Behold, I have taken out of thine\n",
       " hand the cup of trembling, even the dregs of the cup of my fury; thou\n",
       " shalt no more drink it again. 23 But I will put it into the hand of\n",
       " them that afflict thee; which have said to thy soul, Bow down, that we\n",
       " may go over. and thou hast laid thy body as the ground, and as the\n",
       " street, to them that went over.,\n",
       " 21 For Isaiah had said, Let them take a lump of figs, and lay it\n",
       " for a plaister upon the boil, and he shall recover. 22 Hezekiah also had said, What is the sign that I shall go up to\n",
       " the house of the LORD? 1 At that time Merodachbaladan, the son of\n",
       " Baladan, king of Babylon, sent letters and a present to Hezekiah.,\n",
       " 22 Hezekiah also had said, What is the sign that I shall go up to\n",
       " the house of the LORD? 1 At that time Merodachbaladan, the son of\n",
       " Baladan, king of Babylon, sent letters and a present to Hezekiah. for\n",
       " he had heard that he had been sick, and was recovered.,\n",
       " 2 And Hezekiah was glad of them, and shewed them the house of his\n",
       " precious things, the silver, and the gold, and the spices, and the\n",
       " precious ointment, and all the house of his armour, and all that was\n",
       " found in his treasures. there was nothing in his house, nor in all his\n",
       " dominion, that Hezekiah shewed them not. 3 Then came Isaiah the prophet unto king Hezekiah, and said unto\n",
       " him, What said these men?,\n",
       " 6 Therefore my people shall know my name. therefore they shall know\n",
       " in that day that I am he that doth speak. behold, it is I.,\n",
       " 6 Behold, the days come, that all that is in thine house, and that\n",
       " which thy fathers have laid up in store until this day, shall be\n",
       " carried to Babylon. nothing shall be left, saith the LORD. 7 And of thy sons that shall issue from thee, which thou shalt\n",
       " beget, shall they take away; and they shall be eunuchs in the palace\n",
       " of the king of Babylon.,\n",
       " nothing shall be left, saith the LORD. 7 And of thy sons that shall issue from thee, which thou shalt\n",
       " beget, shall they take away; and they shall be eunuchs in the palace\n",
       " of the king of Babylon. 8 Then said Hezekiah to Isaiah, Good is the word of the LORD which\n",
       " thou hast spoken.,\n",
       " 7 And of thy sons that shall issue from thee, which thou shalt\n",
       " beget, shall they take away; and they shall be eunuchs in the palace\n",
       " of the king of Babylon. 8 Then said Hezekiah to Isaiah, Good is the word of the LORD which\n",
       " thou hast spoken. He said moreover, For there shall be peace and truth\n",
       " in my days.,\n",
       " 8 Then said Hezekiah to Isaiah, Good is the word of the LORD which\n",
       " thou hast spoken. He said moreover, For there shall be peace and truth\n",
       " in my days. 1 Comfort ye, comfort ye my people, saith your God.,\n",
       " 10 The city of confusion is broken down. every house is shut up,\n",
       " that no man may come in. 11 There is a crying for wine in the streets; all joy is darkened,\n",
       " the mirth of the land is gone.,\n",
       " 8 Also I heard the voice of the Lord, saying, Whom shall I send, and\n",
       " who will go for us? Then said I, Here am I; send me. 9 And he said, Go, and tell this people, Hear ye indeed, but\n",
       " understand not; and see ye indeed, but perceive not.,\n",
       " Then said I, Here am I; send me. 9 And he said, Go, and tell this people, Hear ye indeed, but\n",
       " understand not; and see ye indeed, but perceive not. 10 Make the heart of this people fat, and make their ears heavy, and\n",
       " shut their eyes; lest they see with their eyes, and hear with their\n",
       " ears, and understand with their heart, and convert, and be healed.,\n",
       " neither be thou\n",
       " confounded; for thou shalt not be put to shame. for thou shalt forget\n",
       " the shame of thy youth, and shalt not remember the reproach of thy\n",
       " widowhood any more. 5 For thy Maker is thine husband; the LORD of hosts is his name;\n",
       " and thy Redeemer the Holy One of Israel; The God of the whole earth\n",
       " shall he be called.,\n",
       " for thou shalt forget\n",
       " the shame of thy youth, and shalt not remember the reproach of thy\n",
       " widowhood any more. 5 For thy Maker is thine husband; the LORD of hosts is his name;\n",
       " and thy Redeemer the Holy One of Israel; The God of the whole earth\n",
       " shall he be called. 6 For the LORD hath called thee as a woman forsaken and grieved in\n",
       " spirit, and a wife of youth, when thou wast refused, saith thy God.,\n",
       " 3 Then said the LORD unto Isaiah, Go forth now to meet Ahaz, thou,\n",
       " and Shearjashub thy son, at the end of the conduit of the upper pool\n",
       " in the highway of the fuller's field; 7. 4 And say unto him, Take heed,\n",
       " and be quiet; fear not, neither be fainthearted for the two tails of\n",
       " these smoking firebrands, for the fierce anger of Rezin with Syria,\n",
       " and of the son of Remaliah. 5 Because Syria, Ephraim, and the son of Remaliah, have taken evil\n",
       " counsel against thee, saying, 7.,\n",
       " 5 For thy Maker is thine husband; the LORD of hosts is his name;\n",
       " and thy Redeemer the Holy One of Israel; The God of the whole earth\n",
       " shall he be called. 6 For the LORD hath called thee as a woman forsaken and grieved in\n",
       " spirit, and a wife of youth, when thou wast refused, saith thy God. 7 For a small moment have I forsaken thee; but with great mercies\n",
       " will I gather thee.,\n",
       " for the LORD hath spoken it. 9 And it shall be said in that day, Lo, this is our God; we have\n",
       " waited for him, and he will save us. this is the LORD; we have waited\n",
       " for him, we will be glad and rejoice in his salvation.,\n",
       " 8 He will swallow up death in victory; and the Lord GOD will wipe\n",
       " away tears from off all faces; and the rebuke of his people shall he\n",
       " take away from off all the earth. for the LORD hath spoken it. 9 And it shall be said in that day, Lo, this is our God; we have\n",
       " waited for him, and he will save us.,\n",
       " 12 But Ahaz said, I will not ask, neither will I tempt the LORD. 13 And he said, Hear ye now, O house of David; Is it a small thing\n",
       " for you to weary men, but will ye weary my God also? 14 Therefore\n",
       " the Lord himself shall give you a sign; Behold, a virgin shall\n",
       " conceive, and bear a son, and shall call his name Immanuel.,\n",
       " 13 And he said, Hear ye now, O house of David; Is it a small thing\n",
       " for you to weary men, but will ye weary my God also? 14 Therefore\n",
       " the Lord himself shall give you a sign; Behold, a virgin shall\n",
       " conceive, and bear a son, and shall call his name Immanuel. 15 Butter and honey shall he eat, that he may know to refuse the\n",
       " evil, and choose the good.,\n",
       " 14 Therefore\n",
       " the Lord himself shall give you a sign; Behold, a virgin shall\n",
       " conceive, and bear a son, and shall call his name Immanuel. 15 Butter and honey shall he eat, that he may know to refuse the\n",
       " evil, and choose the good. 16 For before the child shall know to refuse the evil, and choose\n",
       " the good, the land that thou abhorrest shall be forsaken of both her\n",
       " kings.,\n",
       " let them come near; then let them speak. let us come near\n",
       " together to judgment. 2 Who raised up the righteous man from the east, called him to his\n",
       " foot, gave the nations before him, and made him rule over kings?,\n",
       " let us come near\n",
       " together to judgment. 2 Who raised up the righteous man from the east, called him to his\n",
       " foot, gave the nations before him, and made him rule over kings? he\n",
       " gave them as the dust to his sword, and as driven stubble to his bow.,\n",
       " hear, and your soul shall\n",
       " live; and I will make an everlasting covenant with you, even the sure\n",
       " mercies of David. 4 Behold, I have given him for a witness to the people, a leader\n",
       " and commander to the people. 5 Behold, thou shalt call a nation that thou knowest not, and\n",
       " nations that knew not thee shall run unto thee because of the LORD thy\n",
       " God, and for the Holy One of Israel; for he hath glorified thee.,\n",
       " 4 Behold, I have given him for a witness to the people, a leader\n",
       " and commander to the people. 5 Behold, thou shalt call a nation that thou knowest not, and\n",
       " nations that knew not thee shall run unto thee because of the LORD thy\n",
       " God, and for the Holy One of Israel; for he hath glorified thee. 6 Seek ye the LORD while he may be found, call ye upon him while he\n",
       " is near.,\n",
       " 8 But thou, Israel, art my servant, Jacob whom I have chosen, the\n",
       " seed of Abraham my friend. 9 Thou whom I have taken from the ends of the earth, and called\n",
       " thee from the chief men thereof, and said unto thee, Thou art my\n",
       " servant; I have chosen thee, and not cast thee away. 10 Fear thou not; for I am with thee.,\n",
       " 9 Thou whom I have taken from the ends of the earth, and called\n",
       " thee from the chief men thereof, and said unto thee, Thou art my\n",
       " servant; I have chosen thee, and not cast thee away. 10 Fear thou not; for I am with thee. be not dismayed; for I am thy\n",
       " God.,\n",
       " 5 Behold, thou shalt call a nation that thou knowest not, and\n",
       " nations that knew not thee shall run unto thee because of the LORD thy\n",
       " God, and for the Holy One of Israel; for he hath glorified thee. 6 Seek ye the LORD while he may be found, call ye upon him while he\n",
       " is near. 7 Let the wicked forsake his way, and the unrighteous man\n",
       " his thoughts.,\n",
       " 2 And I took unto me faithful witnesses to record, Uriah the priest,\n",
       " and Zechariah the son of Jeberechiah. 3 And I went unto the prophetess; and she conceived, and bare a son. Then said the LORD to me, Call his name Mahershalalhashbaz.,\n",
       " 3 And I went unto the prophetess; and she conceived, and bare a son. Then said the LORD to me, Call his name Mahershalalhashbaz. 4 For before the child shall have knowledge to cry, My father, and\n",
       " my mother, the riches of Damascus and the spoil of Samaria shall be\n",
       " taken away before the king of Assyria.,\n",
       " Then said the LORD to me, Call his name Mahershalalhashbaz. 4 For before the child shall have knowledge to cry, My father, and\n",
       " my mother, the riches of Damascus and the spoil of Samaria shall be\n",
       " taken away before the king of Assyria. 5 The LORD spake also unto me again, saying, 8.,\n",
       " 12 Thou shalt seek them, and shalt not find them, even them that\n",
       " contended with thee. they that war against thee shall be as nothing,\n",
       " and as a thing of nought. 13 For I the LORD thy God will hold thy right hand, saying unto\n",
       " thee, Fear not; I will help thee.,\n",
       " they that war against thee shall be as nothing,\n",
       " and as a thing of nought. 13 For I the LORD thy God will hold thy right hand, saying unto\n",
       " thee, Fear not; I will help thee. 14 Fear not, thou worm Jacob, and ye men of Israel; I will help\n",
       " thee, saith the LORD, and thy redeemer, the Holy One of Israel.,\n",
       " 13 For I the LORD thy God will hold thy right hand, saying unto\n",
       " thee, Fear not; I will help thee. 14 Fear not, thou worm Jacob, and ye men of Israel; I will help\n",
       " thee, saith the LORD, and thy redeemer, the Holy One of Israel. 15 Behold, I will make thee a new sharp threshing instrument having\n",
       " teeth.,\n",
       " 14 Fear not, thou worm Jacob, and ye men of Israel; I will help\n",
       " thee, saith the LORD, and thy redeemer, the Holy One of Israel. 15 Behold, I will make thee a new sharp threshing instrument having\n",
       " teeth. thou shalt thresh the mountains, and beat them small, and shalt\n",
       " make the hills as chaff.,\n",
       " 10 Take counsel together, and it shall come to nought; speak the\n",
       " word, and it shall not stand. for God is with us. 11 For the LORD spake thus to me with a strong hand, and instructed\n",
       " me that I should not walk in the way of this people, saying, 8.,\n",
       " 20 That they may see, and\n",
       " know, and consider, and understand together, that the hand of the LORD\n",
       " hath done this, and the Holy One of Israel hath created it. 21 Produce your cause, saith the LORD; bring forth your strong\n",
       " reasons, saith the King of Jacob. 22 Let them bring them forth, and shew us what shall happen.,\n",
       " 21 Produce your cause, saith the LORD; bring forth your strong\n",
       " reasons, saith the King of Jacob. 22 Let them bring them forth, and shew us what shall happen. let\n",
       " them shew the former things, what they be, that we may consider them,\n",
       " and know the latter end of them; or declare us things for to come.,\n",
       " 22 Let them bring them forth, and shew us what shall happen. let\n",
       " them shew the former things, what they be, that we may consider them,\n",
       " and know the latter end of them; or declare us things for to come. 23 Shew the things that are to come hereafter, that we may know\n",
       " that ye are gods.,\n",
       " 18 Behold, I and the children whom the LORD hath given me are for\n",
       " signs and for wonders in Israel from the LORD of hosts, which dwelleth\n",
       " in mount Zion. 19 And when they shall say unto you, Seek unto them that have\n",
       " familiar spirits, and unto wizards that peep, and that mutter. should\n",
       " not a people seek unto their God?,\n",
       " 6 For unto us a child is born, unto us a son is given. and the\n",
       " government shall be upon his shoulder. and his name shall be called\n",
       " Wonderful, Counsellor, The mighty God, The everlasting Father, The\n",
       " Prince of Peace.,\n",
       " 13 But the word of the LORD was unto them precept upon precept,\n",
       " precept upon precept; line upon line, line upon line; here a little,\n",
       " and there a little; that they might go, and fall backward, and be\n",
       " broken, and snared, and taken. 14 Wherefore hear the word of the LORD, ye scornful men, that rule\n",
       " this people which is in Jerusalem. 15 Because ye have said, We have made a covenant with death, and\n",
       " with hell are we at agreement; when the overflowing scourge shall pass\n",
       " through, it shall not come unto us.,\n",
       " 1 But now thus saith the LORD that created thee, O Jacob, and he\n",
       " that formed thee, O Israel, Fear not. for I have redeemed thee, I have\n",
       " called thee by thy name; thou art mine. 2 When thou passest through the waters, I will be with thee; and\n",
       " through the rivers, they shall not overflow thee.,\n",
       " 8 Then shall thy light break forth as the morning, and thine health\n",
       " shall spring forth speedily. and thy righteousness shall go before\n",
       " thee; the glory of the LORD shall be thy rereward. 9 Then shalt thou call, and the LORD shall answer; thou shalt cry,\n",
       " and he shall say, Here I am.,\n",
       " and thy righteousness shall go before\n",
       " thee; the glory of the LORD shall be thy rereward. 9 Then shalt thou call, and the LORD shall answer; thou shalt cry,\n",
       " and he shall say, Here I am. If thou take away from the midst of thee\n",
       " the yoke, the putting forth of the finger, and speaking vanity; 58.,\n",
       " 9 Then shalt thou call, and the LORD shall answer; thou shalt cry,\n",
       " and he shall say, Here I am. If thou take away from the midst of thee\n",
       " the yoke, the putting forth of the finger, and speaking vanity; 58. 10\n",
       " And if thou draw out thy soul to the hungry, and satisfy the afflicted\n",
       " soul; then shall thy light rise in obscurity, and thy darkness be as\n",
       " the noon day.,\n",
       " for the mouth of the LORD hath spoken\n",
       " it. 1 Behold, the LORD's hand is not shortened, that it cannot save;\n",
       " neither his ear heavy, that it cannot hear. 2 But your iniquities\n",
       " have separated between you and your God, and your sins have hid his\n",
       " face from you, that he will not hear.,\n",
       " 7 Even every one that is\n",
       " called by my name. for I have created him for my glory, I have formed\n",
       " him; yea, I have made him. 8 Bring forth the blind people that have eyes, and the deaf that\n",
       " have ears.,\n",
       " let them bring forth their witnesses, that they may be justified. or\n",
       " let them hear, and say, It is truth. 10 Ye are my witnesses, saith the LORD, and my servant whom I have\n",
       " chosen.,\n",
       " 23 But when he seeth his children, the work of mine hands, in the\n",
       " midst of him, they shall sanctify my name, and sanctify the Holy One\n",
       " of Jacob, and shall fear the God of Israel. 24 They also that erred in spirit shall come to understanding, and\n",
       " they that murmured shall learn doctrine. 1 Woe to the rebellious children, saith the LORD, that take\n",
       " counsel, but not of me; and that cover with a covering, but not of my\n",
       " spirit, that they may add sin to sin.,\n",
       " because I give waters in the wilderness, and rivers in the\n",
       " desert, to give drink to my people, my chosen. 21 This people have I formed for myself; they shall shew forth my\n",
       " praise. 22 But thou hast not called upon me, O Jacob; but thou hast been\n",
       " weary of me, O Israel.,\n",
       " 21 This people have I formed for myself; they shall shew forth my\n",
       " praise. 22 But thou hast not called upon me, O Jacob; but thou hast been\n",
       " weary of me, O Israel. 23 Thou hast not brought me the small cattle of thy burnt\n",
       " offerings; neither hast thou honoured me with thy sacrifices.,\n",
       " therefore have I cried concerning this, Their strength is to sit\n",
       " still. 8 Now go, write it before them in a table, and note it in a book,\n",
       " that it may be for the time to come for ever and ever. 9 That this\n",
       " is a rebellious people, lying children, children that will not hear\n",
       " the law of the LORD.,\n",
       " 8 Now go, write it before them in a table, and note it in a book,\n",
       " that it may be for the time to come for ever and ever. 9 That this\n",
       " is a rebellious people, lying children, children that will not hear\n",
       " the law of the LORD. 10 Which say to the seers, See not; and to the\n",
       " prophets, Prophesy not unto us right things, speak unto us smooth\n",
       " things, prophesy deceits.,\n",
       " 3 And the Gentiles shall come to thy light, and kings to the\n",
       " brightness of thy rising. 4 Lift up thine eyes round about, and see. all they gather\n",
       " themselves together, they come to thee.,\n",
       " all they gather\n",
       " themselves together, they come to thee. thy sons shall come from far,\n",
       " and thy daughters shall be nursed at thy side. 5 Then thou shalt see, and flow together, and thine heart shall\n",
       " fear, and be enlarged; because the abundance of the sea shall be\n",
       " converted unto thee, the forces of the Gentiles shall come unto thee.,\n",
       " 5 Then thou shalt see, and flow together, and thine heart shall\n",
       " fear, and be enlarged; because the abundance of the sea shall be\n",
       " converted unto thee, the forces of the Gentiles shall come unto thee. 6 The multitude of camels shall cover thee, the dromedaries of\n",
       " Midian and Ephah; all they from Sheba shall come. they shall bring\n",
       " gold and incense; and they shall shew forth the praises of the LORD.,\n",
       " they shall come up with\n",
       " acceptance on mine altar, and I will glorify the house of my glory. 8 Who are these that fly as a cloud, and as the doves to their\n",
       " windows? 9 Surely the isles shall wait for me, and the ships of\n",
       " Tarshish first, to bring thy sons from far, their silver and their\n",
       " gold with them, unto the name of the LORD thy God, and to the Holy One\n",
       " of Israel, because he hath glorified thee.,\n",
       " 8 Who are these that fly as a cloud, and as the doves to their\n",
       " windows? 9 Surely the isles shall wait for me, and the ships of\n",
       " Tarshish first, to bring thy sons from far, their silver and their\n",
       " gold with them, unto the name of the LORD thy God, and to the Holy One\n",
       " of Israel, because he hath glorified thee. 10 And the sons of strangers shall build up thy walls, and their\n",
       " kings shall minister unto thee.,\n",
       " 9 Surely the isles shall wait for me, and the ships of\n",
       " Tarshish first, to bring thy sons from far, their silver and their\n",
       " gold with them, unto the name of the LORD thy God, and to the Holy One\n",
       " of Israel, because he hath glorified thee. 10 And the sons of strangers shall build up thy walls, and their\n",
       " kings shall minister unto thee. for in my wrath I smote thee, but in\n",
       " my favour have I had mercy on thee.,\n",
       " blessed are all they that wait\n",
       " for him. 19 For the people shall dwell in Zion at Jerusalem. thou shalt weep\n",
       " no more.,\n",
       " 16 And there shall be an highway for the remnant of his people,\n",
       " which shall be left, from Assyria; like as it was to Israel in the day\n",
       " that he came up out of the land of Egypt. 1 And in that day thou shalt say, O LORD, I will praise thee. though thou wast angry with me, thine anger is turned away, and thou\n",
       " comfortedst me.,\n",
       " thou shalt weep\n",
       " no more. he will be very gracious unto thee at the voice of thy cry;\n",
       " when he shall hear it, he will answer thee. 20 And though the Lord give you the bread of adversity, and the\n",
       " water of affliction, yet shall not thy teachers be removed into a\n",
       " corner any more, but thine eyes shall see thy teachers.,\n",
       " 3 Therefore with joy shall ye draw water out of the wells of\n",
       " salvation. 4 And in that day shall ye say, Praise the LORD, call upon his\n",
       " name, declare his doings among the people, make mention that his name\n",
       " is exalted. 5 Sing unto the LORD; for he hath done excellent things.,\n",
       " 14 The sons also of them that afflicted thee shall come bending\n",
       " unto thee; and all they that despised thee shall bow themselves down\n",
       " at the soles of thy feet; and they shall call thee; The city of the\n",
       " LORD, The Zion of the Holy One of Israel. 15 Whereas thou has been forsaken and hated, so that no man went\n",
       " through thee, I will make thee an eternal excellency, a joy of many\n",
       " generations. 16 Thou shalt also suck the milk of the Gentiles, and shalt suck\n",
       " the breast of kings.,\n",
       " 5 And strangers shall stand and feed your flocks, and the sons of\n",
       " the alien shall be your plowmen and your vinedressers. 6 But ye shall be named the Priests of the LORD. men shall call you\n",
       " the Ministers of our God.,\n",
       " 1 For Zion's sake will I not hold my peace, and for Jerusalem's\n",
       " sake I will not rest, until the righteousness thereof go forth as\n",
       " brightness, and the salvation thereof as a lamp that burneth. 2 And the Gentiles shall see thy righteousness, and all kings thy\n",
       " glory. and thou shalt be called by a new name, which the mouth of the\n",
       " LORD shall name.,\n",
       " 2 And the Gentiles shall see thy righteousness, and all kings thy\n",
       " glory. and thou shalt be called by a new name, which the mouth of the\n",
       " LORD shall name. 3 Thou shalt also be a crown of glory in the hand of the LORD, and\n",
       " a royal diadem in the hand of thy God.,\n",
       " and thou shalt be called by a new name, which the mouth of the\n",
       " LORD shall name. 3 Thou shalt also be a crown of glory in the hand of the LORD, and\n",
       " a royal diadem in the hand of thy God. 4 Thou shalt no more be termed Forsaken; neither shall thy land any\n",
       " more be termed Desolate.,\n",
       " 4 Thou shalt no more be termed Forsaken; neither shall thy land any\n",
       " more be termed Desolate. but thou shalt be called Hephzibah, and thy\n",
       " land Beulah. for the LORD delighteth in thee, and thy land shall be\n",
       " married.,\n",
       " but thou shalt be called Hephzibah, and thy\n",
       " land Beulah. for the LORD delighteth in thee, and thy land shall be\n",
       " married. 5 For as a young man marrieth a virgin, so shall thy sons marry\n",
       " thee.,\n",
       " and the strangers shall be\n",
       " joined with them, and they shall cleave to the house of Jacob. 2 And the people shall take them, and bring them to their place. and the house of Israel shall possess them in the land of the LORD for\n",
       " servants and handmaids.,\n",
       " 2 And the people shall take them, and bring them to their place. and the house of Israel shall possess them in the land of the LORD for\n",
       " servants and handmaids. and they shall take them captives, whose\n",
       " captives they were; and they shall rule over their oppressors.,\n",
       " and they shall take them captives, whose\n",
       " captives they were; and they shall rule over their oppressors. 3 And it shall come to pass in the day that the LORD shall give\n",
       " thee rest from thy sorrow, and from thy fear, and from the hard\n",
       " bondage wherein thou wast made to serve, 14. 4 That thou shalt take up\n",
       " this proverb against the king of Babylon, and say, How hath the\n",
       " oppressor ceased!,\n",
       " 3 And it shall come to pass in the day that the LORD shall give\n",
       " thee rest from thy sorrow, and from thy fear, and from the hard\n",
       " bondage wherein thou wast made to serve, 14. 4 That thou shalt take up\n",
       " this proverb against the king of Babylon, and say, How hath the\n",
       " oppressor ceased! the golden city ceased!,\n",
       " and the house of Israel shall possess them in the land of the LORD for\n",
       " servants and handmaids. and they shall take them captives, whose\n",
       " captives they were; and they shall rule over their oppressors. 3 And it shall come to pass in the day that the LORD shall give\n",
       " thee rest from thy sorrow, and from thy fear, and from the hard\n",
       " bondage wherein thou wast made to serve, 14.,\n",
       " 11 Behold, the LORD hath proclaimed unto the end of the world, Say\n",
       " ye to the daughter of Zion, Behold, thy salvation cometh; behold, his\n",
       " reward is with him, and his work before him. 12 And they shall call them, The holy people, The redeemed of the\n",
       " LORD. and thou shalt be called, Sought out, A city not forsaken.,\n",
       " 12 And they shall call them, The holy people, The redeemed of the\n",
       " LORD. and thou shalt be called, Sought out, A city not forsaken. 1 Who is this that cometh from Edom, with dyed garments from\n",
       " Bozrah?,\n",
       " 10 All they shall speak and say unto thee, Art thou also become\n",
       " weak as we? art thou become like unto us? 11 Thy pomp is brought\n",
       " down to the grave, and the noise of thy viols.,\n",
       " 10\n",
       " Woe unto him that saith unto his father, What begettest thou? or to\n",
       " the woman, What hast thou brought forth? 11 Thus saith the LORD,\n",
       " the Holy One of Israel, and his Maker, Ask me of things to come\n",
       " concerning my sons, and concerning the work of my hands command ye me.,\n",
       " 11 Ye shall conceive chaff, ye shall bring forth stubble. your\n",
       " breath, as fire, shall devour you. 12 And the people shall be as the burnings of lime.,\n",
       " wilt thou\n",
       " hold thy peace, and afflict us very sore? 1 I am sought of them\n",
       " that asked not for me; I am found of them that sought me not. I said,\n",
       " Behold me, behold me, unto a nation that was not called by my name.,\n",
       " 1 I am sought of them\n",
       " that asked not for me; I am found of them that sought me not. I said,\n",
       " Behold me, behold me, unto a nation that was not called by my name. 2 I have spread out my hands all the day unto a rebellious people,\n",
       " which walketh in a way that was not good, after their own thoughts;\n",
       " 65.,\n",
       " 5 Which say, Stand by thyself, come not near to me; for I am holier\n",
       " than thou. These are a smoke in my nose, a fire that burneth all the\n",
       " day. 6 Behold, it is written before me.,\n",
       " 3 Thy nakedness shall be uncovered, yea, thy shame shall be seen. I\n",
       " will take vengeance, and I will not meet thee as a man. 4 As for our redeemer, the LORD of hosts is his name, the Holy One\n",
       " of Israel.,\n",
       " 4 As for our redeemer, the LORD of hosts is his name, the Holy One\n",
       " of Israel. 5 Sit thou silent, and get thee into darkness, O daughter of the\n",
       " Chaldeans. for thou shalt no more be called, The lady of kingdoms.,\n",
       " 15 Thus shall they be unto thee with whom thou hast laboured, even\n",
       " thy merchants, from thy youth. they shall wander every one to his\n",
       " quarter; none shall save thee. 1 Hear ye this, O house of Jacob, which are called by the name of\n",
       " Israel, and are come forth out of the waters of Judah, which swear by\n",
       " the name of the LORD, and make mention of the God of Israel, but not\n",
       " in truth, nor in righteousness.,\n",
       " they shall wander every one to his\n",
       " quarter; none shall save thee. 1 Hear ye this, O house of Jacob, which are called by the name of\n",
       " Israel, and are come forth out of the waters of Judah, which swear by\n",
       " the name of the LORD, and make mention of the God of Israel, but not\n",
       " in truth, nor in righteousness. 2 For they call themselves of the holy city, and stay themselves\n",
       " upon the God of Israel; The LORD of hosts is his name.,\n",
       " 23 They shall not labour in vain, nor bring forth for trouble; for\n",
       " they are the seed of the blessed of the LORD, and their offspring with\n",
       " them. 24 And it shall come to pass, that before they call, I will answer;\n",
       " and while they are yet speaking, I will hear. 25 The wolf and the lamb shall feed together, and the lion shall\n",
       " eat straw like the bullock.]"
      ]
     },
     "execution_count": 31,
     "metadata": {},
     "output_type": "execute_result"
    }
   ],
   "source": [
    "reducedSpacyBooks['isaiah']"
   ]
  },
  {
   "cell_type": "code",
   "execution_count": 32,
   "metadata": {},
   "outputs": [
    {
     "data": {
      "text/plain": [
       "[4 Then the word of the LORD came unto me, saying, 1. 5 Before I\n",
       " formed thee in the belly I knew thee; and before thou camest forth out\n",
       " of the womb I sanctified thee, and I ordained thee a prophet unto the\n",
       " nations. 6 Then said I, Ah, Lord GOD!, 5 Before I\n",
       " formed thee in the belly I knew thee; and before thou camest forth out\n",
       " of the womb I sanctified thee, and I ordained thee a prophet unto the\n",
       " nations. 6 Then said I, Ah, Lord GOD! behold, I cannot speak., for of a truth the LORD hath sent me\n",
       " unto you to speak all these words in your ears. 16 Then said the princes and all the people unto the priests and to\n",
       " the prophets; This man is not worthy to die. for he hath spoken to us\n",
       " in the name of the LORD our God., 6 Then said I, Ah, Lord GOD! behold, I cannot speak. for I am a\n",
       " child., for I am a\n",
       " child. 7 But the LORD said unto me, Say not, I am a child. for thou shalt\n",
       " go to all that I shall send thee, and whatsoever I command thee thou\n",
       " shalt speak., 7 But the LORD said unto me, Say not, I am a child. for thou shalt\n",
       " go to all that I shall send thee, and whatsoever I command thee thou\n",
       " shalt speak. 8 Be not afraid of their faces., for thou shalt\n",
       " go to all that I shall send thee, and whatsoever I command thee thou\n",
       " shalt speak. 8 Be not afraid of their faces. for I am with thee to deliver thee,\n",
       " saith the LORD., behold, I cannot speak. for I am a\n",
       " child. 7 But the LORD said unto me, Say not, I am a child., for I am with thee to deliver thee,\n",
       " saith the LORD. 9 Then the LORD put forth his hand, and touched my mouth. And the\n",
       " LORD said unto me, Behold, I have put my words in thy mouth., 64 And thou shalt say, Thus shall Babylon sink, and\n",
       " shall not rise from the evil that I will bring upon her. and they\n",
       " shall be weary. Thus far are the words of Jeremiah., And the\n",
       " LORD said unto me, Behold, I have put my words in thy mouth. 10 See, I have this day set thee over the nations and over the\n",
       " kingdoms, to root out, and to pull down, and to destroy, and to throw\n",
       " down, to build, and to plant. 11 Moreover the word of the LORD came unto me, saying, Jeremiah,\n",
       " what seest thou?, 16 Then said the princes and all the people unto the priests and to\n",
       " the prophets; This man is not worthy to die. for he hath spoken to us\n",
       " in the name of the LORD our God. 17 Then rose up certain of the elders of the land, and spake to all\n",
       " the assembly of the people, saying, 26., 18 For, behold, I have made thee this day a defenced city, and an\n",
       " iron pillar, and brasen walls against the whole land, against the\n",
       " kings of Judah, against the princes thereof, against the priests\n",
       " thereof, and against the people of the land. 19 And they shall fight against thee; but they shall not prevail\n",
       " against thee; for I am with thee, saith the LORD, to deliver thee. 1 Moreover the word of the LORD came to me, saying, 2., 19 And they shall fight against thee; but they shall not prevail\n",
       " against thee; for I am with thee, saith the LORD, to deliver thee. 1 Moreover the word of the LORD came to me, saying, 2. 2 Go and cry\n",
       " in the ears of Jerusalem, saying, Thus saith the LORD; I remember\n",
       " thee, the kindness of thy youth, the love of thine espousals, when\n",
       " thou wentest after me in the wilderness, in a land that was not sown., 1 Moreover the word of the LORD came to me, saying, 2. 2 Go and cry\n",
       " in the ears of Jerusalem, saying, Thus saith the LORD; I remember\n",
       " thee, the kindness of thy youth, the love of thine espousals, when\n",
       " thou wentest after me in the wilderness, in a land that was not sown. 3 Israel was holiness unto the LORD, and the firstfruits of his\n",
       " increase., 2 Go and cry\n",
       " in the ears of Jerusalem, saying, Thus saith the LORD; I remember\n",
       " thee, the kindness of thy youth, the love of thine espousals, when\n",
       " thou wentest after me in the wilderness, in a land that was not sown. 3 Israel was holiness unto the LORD, and the firstfruits of his\n",
       " increase. all that devour him shall offend; evil shall come upon them,\n",
       " saith the LORD., 12 I spake also to Zedekiah king of Judah according to all these\n",
       " words, saying, Bring your necks under the yoke of the king of Babylon,\n",
       " and serve him and his people, and live. 13 Why will ye die, thou and thy people, by the sword, by the\n",
       " famine, and by the pestilence, as the LORD hath spoken against the\n",
       " nation that will not serve the king of Babylon? 14 Therefore\n",
       " hearken not unto the words of the prophets that speak unto you,\n",
       " saying, Ye shall not serve the king of Babylon., 13 Why will ye die, thou and thy people, by the sword, by the\n",
       " famine, and by the pestilence, as the LORD hath spoken against the\n",
       " nation that will not serve the king of Babylon? 14 Therefore\n",
       " hearken not unto the words of the prophets that speak unto you,\n",
       " saying, Ye shall not serve the king of Babylon. for they prophesy a\n",
       " lie unto you., 14 Therefore\n",
       " hearken not unto the words of the prophets that speak unto you,\n",
       " saying, Ye shall not serve the king of Babylon. for they prophesy a\n",
       " lie unto you. 15 For I have not sent them, saith the LORD, yet they prophesy a\n",
       " lie in my name; that I might drive you out, and that ye might perish,\n",
       " ye, and the prophets that prophesy unto you., for they prophesy a\n",
       " lie unto you. 15 For I have not sent them, saith the LORD, yet they prophesy a\n",
       " lie in my name; that I might drive you out, and that ye might perish,\n",
       " ye, and the prophets that prophesy unto you. 16 Also I spake to the priests and to all this people, saying, Thus\n",
       " saith the LORD; Hearken not to the words of your prophets that\n",
       " prophesy unto you, saying, Behold, the vessels of the LORD's house\n",
       " shall now shortly be brought again from Babylon., 15 For I have not sent them, saith the LORD, yet they prophesy a\n",
       " lie in my name; that I might drive you out, and that ye might perish,\n",
       " ye, and the prophets that prophesy unto you. 16 Also I spake to the priests and to all this people, saying, Thus\n",
       " saith the LORD; Hearken not to the words of your prophets that\n",
       " prophesy unto you, saying, Behold, the vessels of the LORD's house\n",
       " shall now shortly be brought again from Babylon. for they prophesy a\n",
       " lie unto you., 16 Also I spake to the priests and to all this people, saying, Thus\n",
       " saith the LORD; Hearken not to the words of your prophets that\n",
       " prophesy unto you, saying, Behold, the vessels of the LORD's house\n",
       " shall now shortly be brought again from Babylon. for they prophesy a\n",
       " lie unto you. 17 Hearken not unto them; serve the king of Babylon, and live., 11 For as the girdle cleaveth to the loins of a man, so have I\n",
       " caused to cleave unto me the whole house of Israel and the whole house\n",
       " of Judah, saith the LORD; that they might be unto me for a people, and\n",
       " for a name, and for a praise, and for a glory. but they would not\n",
       " hear. 12 Therefore thou shalt speak unto them this word; Thus saith the\n",
       " LORD God of Israel, Every bottle shall be filled with wine., but they would not\n",
       " hear. 12 Therefore thou shalt speak unto them this word; Thus saith the\n",
       " LORD God of Israel, Every bottle shall be filled with wine. and they\n",
       " shall say unto thee, Do we not certainly know that every bottle shall\n",
       " be filled with wine?, 12 Therefore thou shalt speak unto them this word; Thus saith the\n",
       " LORD God of Israel, Every bottle shall be filled with wine. and they\n",
       " shall say unto thee, Do we not certainly know that every bottle shall\n",
       " be filled with wine? 13 Then shalt thou say unto them, Thus saith\n",
       " the LORD, Behold, I will fill all the inhabitants of this land, even\n",
       " the kings that sit upon David's throne, and the priests, and the\n",
       " prophets, and all the inhabitants of Jerusalem, with drunkenness., and they\n",
       " shall say unto thee, Do we not certainly know that every bottle shall\n",
       " be filled with wine? 13 Then shalt thou say unto them, Thus saith\n",
       " the LORD, Behold, I will fill all the inhabitants of this land, even\n",
       " the kings that sit upon David's throne, and the priests, and the\n",
       " prophets, and all the inhabitants of Jerusalem, with drunkenness. 14 And I will dash them one against another, even the fathers and\n",
       " the sons together, saith the LORD., 8 Then the word of the LORD came unto me, saying, 13. 9 Thus saith\n",
       " the LORD, After this manner will I mar the pride of Judah, and the\n",
       " great pride of Jerusalem. 10 This evil people, which refuse to hear my words, which walk in\n",
       " the imagination of their heart, and walk after other gods, to serve\n",
       " them, and to worship them, shall even be as this girdle, which is good\n",
       " for nothing., 21\n",
       " Yea, thus saith the LORD of hosts, the God of Israel, concerning the\n",
       " vessels that remain in the house of the LORD, and in the house of the\n",
       " king of Judah and of Jerusalem; 27. 22 They shall be carried to\n",
       " Babylon, and there shall they be until the day that I visit them,\n",
       " saith the LORD; then will I bring them up, and restore them to this\n",
       " place. 1 And it came to pass the same year, in the beginning of the reign\n",
       " of Zedekiah king of Judah, in the fourth year, and in the fifth month,\n",
       " that Hananiah the son of Azur the prophet, which was of Gibeon, spake\n",
       " unto me in the house of the LORD, in the presence of the priests and\n",
       " of all the people, saying, 28., 22 They shall be carried to\n",
       " Babylon, and there shall they be until the day that I visit them,\n",
       " saith the LORD; then will I bring them up, and restore them to this\n",
       " place. 1 And it came to pass the same year, in the beginning of the reign\n",
       " of Zedekiah king of Judah, in the fourth year, and in the fifth month,\n",
       " that Hananiah the son of Azur the prophet, which was of Gibeon, spake\n",
       " unto me in the house of the LORD, in the presence of the priests and\n",
       " of all the people, saying, 28. 2 Thus speaketh the LORD of hosts, the\n",
       " God of Israel, saying, I have broken the yoke of the king of Babylon., 1 Then all the captains of the forces, and Johanan the son of\n",
       " Kareah, and Jezaniah the son of Hoshaiah, and all the people from the\n",
       " least even unto the greatest, came near, 42. 2 And said unto Jeremiah\n",
       " the prophet, Let, we beseech thee, our supplication be accepted before\n",
       " thee, and pray for us unto the LORD thy God, even for all this\n",
       " remnant; (for we are left but a few of many, as thine eyes do behold\n",
       " us. ) 3 That the LORD thy God may shew us the way wherein we may\n",
       " walk, and the thing that we may do., 4 And I will\n",
       " bring again to this place Jeconiah the son of Jehoiakim king of Judah,\n",
       " with all the captives of Judah, that went into Babylon, saith the\n",
       " LORD. for I will break the yoke of the king of Babylon. 5 Then the prophet Jeremiah said unto the prophet Hananiah in the\n",
       " presence of the priests, and in the presence of all the people that\n",
       " stood in the house of the LORD, 28., for I will break the yoke of the king of Babylon. 5 Then the prophet Jeremiah said unto the prophet Hananiah in the\n",
       " presence of the priests, and in the presence of all the people that\n",
       " stood in the house of the LORD, 28. 6 Even the prophet Jeremiah said,\n",
       " Amen., 5 Then the prophet Jeremiah said unto the prophet Hananiah in the\n",
       " presence of the priests, and in the presence of all the people that\n",
       " stood in the house of the LORD, 28. 6 Even the prophet Jeremiah said,\n",
       " Amen. the LORD do so., 6 Whether it be good, or whether it be evil, we will obey the voice\n",
       " of the LORD our God, to whom we send thee; that it may be well with\n",
       " us, when we obey the voice of the LORD our God. 7 And it came to pass after ten days, that the word of the LORD\n",
       " came unto Jeremiah. 8 Then called he Johanan the son of Kareah, and all the captains of\n",
       " the forces which were with him, and all the people from the least even\n",
       " to the greatest, 42., 20 Lift up your eyes, and behold them that come from the north. where is the flock that was given thee, thy beautiful flock? 21\n",
       " What wilt thou say when he shall punish thee?, 7 And it came to pass after ten days, that the word of the LORD\n",
       " came unto Jeremiah. 8 Then called he Johanan the son of Kareah, and all the captains of\n",
       " the forces which were with him, and all the people from the least even\n",
       " to the greatest, 42. 9 And said unto them, Thus saith the LORD, the God\n",
       " of Israel, unto whom ye sent me to present your supplication before\n",
       " him; 42., 26 As the thief is ashamed when he is found, so is the house of\n",
       " Israel ashamed; they, their kings, their princes, and their priests,\n",
       " and their prophets. 27 Saying to a stock, Thou art my father; and to a stone, Thou hast\n",
       " brought me forth. for they have turned their back unto me, and not\n",
       " their face., 22 Now therefore know certainly that ye shall die by the sword, by\n",
       " the famine, and by the pestilence, in the place whither ye desire to\n",
       " go and to sojourn. 1 And it came to pass, that when Jeremiah had made an end of\n",
       " speaking unto all the people all the words of the LORD their God, for\n",
       " which the LORD their God had sent him to them, even all these words,\n",
       " 43. 2 Then spake Azariah the son of Hoshaiah, and Johanan the son of\n",
       " Kareah, and all the proud men, saying unto Jeremiah, Thou speakest\n",
       " falsely., 9 Why shouldest thou be\n",
       " as a man astonied, as a mighty man that cannot save? yet thou, O LORD,\n",
       " art in the midst of us, and we are called by thy name; leave us not. 10 Thus saith the LORD unto this people, Thus have they loved to\n",
       " wander, they have not refrained their feet, therefore the LORD doth\n",
       " not accept them; he will now remember their iniquity, and visit their\n",
       " sins., yet thou, O LORD,\n",
       " art in the midst of us, and we are called by thy name; leave us not. 10 Thus saith the LORD unto this people, Thus have they loved to\n",
       " wander, they have not refrained their feet, therefore the LORD doth\n",
       " not accept them; he will now remember their iniquity, and visit their\n",
       " sins. 11 Then said the LORD unto me, Pray not for this people for their\n",
       " good., Have I been a\n",
       " wilderness unto Israel? a land of darkness? wherefore say my people,\n",
       " We are lords; we will come no more unto thee?, but I will\n",
       " consume them by the sword, and by the famine, and by the pestilence. 13 Then said I, Ah, Lord GOD! behold, the prophets say unto them,\n",
       " Ye shall not see the sword, neither shall ye have famine; but I will\n",
       " give you assured peace in this place., 13 Then said I, Ah, Lord GOD! behold, the prophets say unto them,\n",
       " Ye shall not see the sword, neither shall ye have famine; but I will\n",
       " give you assured peace in this place. 14 Then the LORD said unto me, The prophets prophesy lies in my\n",
       " name., 13 He shall break also the images of Bethshemesh, that is in the\n",
       " land of Egypt; and the houses of the gods of the Egyptians shall he\n",
       " burn with fire. 1 The word that came to Jeremiah concerning all the Jews which\n",
       " dwell in the land of Egypt, which dwell at Migdol, and at Tahpanhes,\n",
       " and at Noph, and in the country of Pathros, saying, 44. 2 Thus saith\n",
       " the LORD of hosts, the God of Israel; Ye have seen all the evil that I\n",
       " have brought upon Jerusalem, and upon all the cities of Judah; and,\n",
       " behold, this day they are a desolation, and no man dwelleth therein,\n",
       " 44., 15 Therefore thus saith the LORD concerning the prophets that\n",
       " prophesy in my name, and I sent them not, yet they say, Sword and\n",
       " famine shall not be in this land; By sword and famine shall those\n",
       " prophets be consumed. 16 And the people to whom they prophesy shall be cast out in the\n",
       " streets of Jerusalem because of the famine and the sword; and they\n",
       " shall have none to bury them, them, their wives, nor their sons, nor\n",
       " their daughters. for I will pour their wickedness upon them., 20 Hear ye therefore the word of the LORD, all ye of the captivity,\n",
       " whom I have sent from Jerusalem to Babylon. 21 Thus saith the LORD\n",
       " of hosts, the God of Israel, of Ahab the son of Kolaiah, and of\n",
       " Zedekiah the son of Maaseiah, which prophesy a lie unto you in my\n",
       " name; Behold, I will deliver them into the hand of Nebuchadrezzar king\n",
       " of Babylon; and he shall slay them before your eyes; 29. 22 And of them\n",
       " shall be taken up a curse by all the captivity of Judah which are in\n",
       " Babylon, saying, The LORD make thee like Zedekiah and like Ahab, whom\n",
       " the king of Babylon roasted in the fire; 29., 21 Thus saith the LORD\n",
       " of hosts, the God of Israel, of Ahab the son of Kolaiah, and of\n",
       " Zedekiah the son of Maaseiah, which prophesy a lie unto you in my\n",
       " name; Behold, I will deliver them into the hand of Nebuchadrezzar king\n",
       " of Babylon; and he shall slay them before your eyes; 29. 22 And of them\n",
       " shall be taken up a curse by all the captivity of Judah which are in\n",
       " Babylon, saying, The LORD make thee like Zedekiah and like Ahab, whom\n",
       " the king of Babylon roasted in the fire; 29. 23 Because they have\n",
       " committed villany in Israel, and have committed adultery with their\n",
       " neighbours' wives, and have spoken lying words in my name, which I\n",
       " have not commanded them; even I know, and am a witness, saith the\n",
       " LORD., 22 And of them\n",
       " shall be taken up a curse by all the captivity of Judah which are in\n",
       " Babylon, saying, The LORD make thee like Zedekiah and like Ahab, whom\n",
       " the king of Babylon roasted in the fire; 29. 23 Because they have\n",
       " committed villany in Israel, and have committed adultery with their\n",
       " neighbours' wives, and have spoken lying words in my name, which I\n",
       " have not commanded them; even I know, and am a witness, saith the\n",
       " LORD. 24 Thus shalt thou also speak to Shemaiah the Nehelamite, saying,\n",
       " 29., 37 Yea, thou shalt go forth from him, and thine hands upon thine\n",
       " head. for the LORD hath rejected thy confidences, and thou shalt not\n",
       " prosper in them. 1 They say, If a man put away his wife, and she go from him, and\n",
       " become another man's, shall he return unto her again?, for the LORD hath rejected thy confidences, and thou shalt not\n",
       " prosper in them. 1 They say, If a man put away his wife, and she go from him, and\n",
       " become another man's, shall he return unto her again? shall not that\n",
       " land be greatly polluted?, 1 They say, If a man put away his wife, and she go from him, and\n",
       " become another man's, shall he return unto her again? shall not that\n",
       " land be greatly polluted? but thou hast played the harlot with many\n",
       " lovers; yet return again to me, saith the LORD., 24 Thus shalt thou also speak to Shemaiah the Nehelamite, saying,\n",
       " 29. 25 Thus speaketh the LORD of hosts, the God of Israel, saying,\n",
       " Because thou hast sent letters in thy name unto all the people that\n",
       " are at Jerusalem, and to Zephaniah the son of Maaseiah the priest, and\n",
       " to all the priests, saying, 29. 26 The LORD hath made thee priest in\n",
       " the stead of Jehoiada the priest, that ye should be officers in the\n",
       " house of the LORD, for every man that is mad, and maketh himself a\n",
       " prophet, that thou shouldest put him in prison, and in the stocks., 23 Because they have\n",
       " committed villany in Israel, and have committed adultery with their\n",
       " neighbours' wives, and have spoken lying words in my name, which I\n",
       " have not commanded them; even I know, and am a witness, saith the\n",
       " LORD. 24 Thus shalt thou also speak to Shemaiah the Nehelamite, saying,\n",
       " 29. 25 Thus speaketh the LORD of hosts, the God of Israel, saying,\n",
       " Because thou hast sent letters in thy name unto all the people that\n",
       " are at Jerusalem, and to Zephaniah the son of Maaseiah the priest, and\n",
       " to all the priests, saying, 29., for none shall return but such as\n",
       " shall escape. 15 Then all the men which knew that their wives had burned incense\n",
       " unto other gods, and all the women that stood by, a great multitude,\n",
       " even all the people that dwelt in the land of Egypt, in Pathros,\n",
       " answered Jeremiah, saying, 44. 16 As for the word that thou hast spoken\n",
       " unto us in the name of the LORD, we will not hearken unto thee., he shall not have a man to dwell among this\n",
       " people; neither shall he behold the good that I will do for my people,\n",
       " saith the LORD; because he hath taught rebellion against the LORD. 1 The word that came to Jeremiah from the LORD, saying, 30. 2 Thus\n",
       " speaketh the LORD God of Israel, saying, Write thee all the words that\n",
       " I have spoken unto thee in a book., 1 The word that came to Jeremiah from the LORD, saying, 30. 2 Thus\n",
       " speaketh the LORD God of Israel, saying, Write thee all the words that\n",
       " I have spoken unto thee in a book. 3 For, lo, the days come, saith the LORD, that I will bring again\n",
       " the captivity of my people Israel and Judah, saith the LORD., 2 Thus\n",
       " speaketh the LORD God of Israel, saying, Write thee all the words that\n",
       " I have spoken unto thee in a book. 3 For, lo, the days come, saith the LORD, that I will bring again\n",
       " the captivity of my people Israel and Judah, saith the LORD. and I\n",
       " will cause them to return to the land that I gave to their fathers,\n",
       " and they shall possess it., therefore we will wait upon thee. for thou hast made all these\n",
       " things. 1 Then said the LORD unto me, Though Moses and Samuel stood before\n",
       " me, yet my mind could not be toward this people., for thou hast made all these\n",
       " things. 1 Then said the LORD unto me, Though Moses and Samuel stood before\n",
       " me, yet my mind could not be toward this people. cast them out of my\n",
       " sight, and let them go forth., cast them out of my\n",
       " sight, and let them go forth. 2 And it shall come to pass, if they say unto thee, Whither shall\n",
       " we go forth? then thou shalt tell them, Thus saith the LORD; Such as\n",
       " are for death, to death; and such as are for the sword, to the sword;\n",
       " and such as are for the famine, to the famine; and such as are for the\n",
       " captivity, to the captivity., 2 And it shall come to pass, if they say unto thee, Whither shall\n",
       " we go forth? then thou shalt tell them, Thus saith the LORD; Such as\n",
       " are for death, to death; and such as are for the sword, to the sword;\n",
       " and such as are for the famine, to the famine; and such as are for the\n",
       " captivity, to the captivity. 3 And I will appoint over them four kinds, saith the LORD., 25 Thus saith the LORD of hosts, the God of Israel, saying;\n",
       " Ye and your wives have both spoken with your mouths, and fulfilled\n",
       " with your hand, saying, We will surely perform our vows that we have\n",
       " vowed, to burn incense to the queen of heaven, and to pour out drink\n",
       " offerings unto her. ye will surely accomplish your vows, and surely\n",
       " perform your vows. 26 Therefore hear ye the word of the LORD, all Judah that dwell in\n",
       " the land of Egypt; Behold, I have sworn by my great name, saith the\n",
       " LORD, that my name shall no more be named in the mouth of any man of\n",
       " Judah in all the land of Egypt, saying, The Lord GOD liveth., or who shall\n",
       " bemoan thee? or who shall go aside to ask how thou doest? 6 Thou\n",
       " hast forsaken me, saith the LORD, thou art gone backward., 1 The word that Jeremiah the prophet spake unto Baruch the son of\n",
       " Neriah, when he had written these words in a book at the mouth of\n",
       " Jeremiah, in the fourth year of Jehoiakim the son of Josiah king of\n",
       " Judah, saying, 45. 2 Thus saith the LORD, the God of Israel, unto thee,\n",
       " O Baruch. 3 Thou didst say, Woe is me now!, 18 In those days the house of Judah shall walk with the house of\n",
       " Israel, and they shall come together out of the land of the north to\n",
       " the land that I have given for an inheritance unto your fathers. 19 But I said, How shall I put thee among the children, and give\n",
       " thee a pleasant land, a goodly heritage of the hosts of nations? and I\n",
       " said, Thou shalt call me, My father; and shalt not turn away from me., 19 But I said, How shall I put thee among the children, and give\n",
       " thee a pleasant land, a goodly heritage of the hosts of nations? and I\n",
       " said, Thou shalt call me, My father; and shalt not turn away from me. 20 Surely as a wife treacherously departeth from her husband, so\n",
       " have ye dealt treacherously with me, O house of Israel, saith the\n",
       " LORD., and I\n",
       " said, Thou shalt call me, My father; and shalt not turn away from me. 20 Surely as a wife treacherously departeth from her husband, so\n",
       " have ye dealt treacherously with me, O house of Israel, saith the\n",
       " LORD. 21 A voice was heard upon the high places, weeping and supplications\n",
       " of the children of Israel., 4 Thus shalt thou say unto him, The LORD saith thus; Behold, that\n",
       " which I have built will I break down, and that which I have planted I\n",
       " will pluck up, even this whole land. 5 And seekest thou great things for thyself? seek them not., seek them not. for,\n",
       " behold, I will bring evil upon all flesh, saith the LORD. but thy life\n",
       " will I give unto thee for a prey in all places whither thou goest., Behold, we come unto thee; for thou art the LORD our God. 23 Truly in vain is salvation hoped for from the hills, and from the\n",
       " multitude of mountains. truly in the LORD our God is the salvation of\n",
       " Israel., 24 For shame hath devoured the labour of our fathers from our youth;\n",
       " their flocks and their herds, their sons and their daughters. 25 We lie down in our shame, and our confusion covereth us. for we\n",
       " have sinned against the LORD our God, we and our fathers, from our\n",
       " youth even unto this day, and have not obeyed the voice of the LORD\n",
       " our God., for who is this that engaged his\n",
       " heart to approach unto me? saith the LORD. 22 And ye shall be my people, and I will be your God., saith the LORD. 22 And ye shall be my people, and I will be your God. 23 Behold, the whirlwind of the LORD goeth forth with fury, a\n",
       " continuing whirlwind., 22 And ye shall be my people, and I will be your God. 23 Behold, the whirlwind of the LORD goeth forth with fury, a\n",
       " continuing whirlwind. it shall fall with pain upon the head of the\n",
       " wicked., 1 At the same time, saith the LORD, will I be the God of all the\n",
       " families of Israel, and they shall be my people. 2 Thus saith the LORD, The people which were left of the sword\n",
       " found grace in the wilderness; even Israel, when I went to cause him\n",
       " to rest. 3 The LORD hath appeared of old unto me, saying, Yea, I have loved\n",
       " thee with an everlasting love., wilt thou be altogether unto me as a liar, and as waters\n",
       " that fail? 19 Therefore thus saith the LORD, If thou return, then\n",
       " will I bring thee again, and thou shalt stand before me. and if thou\n",
       " take forth the precious from the vile, thou shalt be as my mouth., 19 Therefore thus saith the LORD, If thou return, then\n",
       " will I bring thee again, and thou shalt stand before me. and if thou\n",
       " take forth the precious from the vile, thou shalt be as my mouth. let\n",
       " them return unto thee; but return not thou unto them., and if thou\n",
       " take forth the precious from the vile, thou shalt be as my mouth. let\n",
       " them return unto thee; but return not thou unto them. 20 And I will make thee unto this people a fenced brasen wall., 3 The LORD hath appeared of old unto me, saying, Yea, I have loved\n",
       " thee with an everlasting love. therefore with lovingkindness have I\n",
       " drawn thee. 4 Again I will build thee, and thou shalt be built, O virgin of\n",
       " Israel., 21 And I will deliver thee out of the hand of the wicked, and I\n",
       " will redeem thee out of the hand of the terrible. 1 The word of the LORD came also unto me, saying, 16. 2 Thou shalt\n",
       " not take thee a wife, neither shalt thou have sons or daughters in\n",
       " this place., 1 The word of the LORD came also unto me, saying, 16. 2 Thou shalt\n",
       " not take thee a wife, neither shalt thou have sons or daughters in\n",
       " this place. 3 For thus saith the LORD concerning the sons and concerning the\n",
       " daughters that are born in this place, and concerning their mothers\n",
       " that bare them, and concerning their fathers that begat them in this\n",
       " land; 16., publish ye, praise ye, and say, O\n",
       " LORD, save thy people, the remnant of Israel. 8 Behold, I will bring them from the north country, and gather them\n",
       " from the coasts of the earth, and with them the blind and the lame,\n",
       " the woman with child and her that travaileth with child together. a\n",
       " great company shall return thither., 10 And it shall come to pass, when thou shalt shew this people all\n",
       " these words, and they shall say unto thee, Wherefore hath the LORD\n",
       " pronounced all this great evil against us? or what is our iniquity? or\n",
       " what is our sin that we have committed against the LORD our God?, 19 O LORD, my strength, and my fortress, and my refuge in the day\n",
       " of affliction, the Gentiles shall come unto thee from the ends of the\n",
       " earth, and shall say, Surely our fathers have inherited lies, vanity,\n",
       " and things wherein there is no profit. 20 Shall a man make gods unto himself, and they are no gods? 21\n",
       " Therefore, behold, I will this once cause them to know, I will cause\n",
       " them to know mine hand and my might; and they shall know that my name\n",
       " is The LORD., 20 Shall a man make gods unto himself, and they are no gods? 21\n",
       " Therefore, behold, I will this once cause them to know, I will cause\n",
       " them to know mine hand and my might; and they shall know that my name\n",
       " is The LORD. 1 The sin of Judah is written with a pen of iron, and with the\n",
       " point of a diamond., 13 O LORD, the hope of Israel, all that forsake thee shall be\n",
       " ashamed, and they that depart from me shall be written in the earth,\n",
       " because they have forsaken the LORD, the fountain of living waters. 14 Heal me, O LORD, and I shall be healed; save me, and I shall be\n",
       " saved. for thou art my praise., 14 Heal me, O LORD, and I shall be healed; save me, and I shall be\n",
       " saved. for thou art my praise. 15 Behold, they say unto me, Where is the word of the LORD?, for thou art my praise. 15 Behold, they say unto me, Where is the word of the LORD? let it\n",
       " come now., bring\n",
       " upon them the day of evil, and destroy them with double destruction. 19 Thus said the LORD unto me; Go and stand in the gate of the\n",
       " children of the people, whereby the kings of Judah come in, and by the\n",
       " which they go out, and in all the gates of Jerusalem; 17. 20 And say\n",
       " unto them, Hear ye the word of the LORD, ye kings of Judah, and all\n",
       " Judah, and all the inhabitants of Jerusalem, that enter in by these\n",
       " gates., 19 Thus said the LORD unto me; Go and stand in the gate of the\n",
       " children of the people, whereby the kings of Judah come in, and by the\n",
       " which they go out, and in all the gates of Jerusalem; 17. 20 And say\n",
       " unto them, Hear ye the word of the LORD, ye kings of Judah, and all\n",
       " Judah, and all the inhabitants of Jerusalem, that enter in by these\n",
       " gates. 21 Thus saith the LORD; Take heed to yourselves, and bear no\n",
       " burden on the sabbath day, nor bring it in by the gates of Jerusalem;\n",
       " 17., 13 And the\n",
       " prophets shall become wind, and the word is not in them. thus shall it\n",
       " be done unto them. 14 Wherefore thus saith the LORD God of hosts, Because ye speak this\n",
       " word, behold, I will make my words in thy mouth fire, and this people\n",
       " wood, and it shall devour them., 1 The word which came to Jeremiah from the LORD, saying, 18. 2\n",
       " Arise, and go down to the potter's house, and there I will cause thee\n",
       " to hear my words. 3 Then I went down to the potter's house, and, behold, he wrought a\n",
       " work on the wheels., they shall\n",
       " impoverish thy fenced cities, wherein thou trustedst, with the sword. 18 Nevertheless in those days, saith the LORD, I will not make a\n",
       " full end with you. 19 And it shall come to pass, when ye shall say, Wherefore doeth the\n",
       " LORD our God all these things unto us?, 16 Now when I had delivered the evidence of the purchase unto\n",
       " Baruch the son of Neriah, I prayed unto the LORD, saying, 32. 17 Ah\n",
       " Lord GOD! behold, thou hast made the heaven and the earth by thy great\n",
       " power and stretched out arm, and there is nothing too hard for thee., 24 Behold the mounts, they\n",
       " are come unto the city to take it; and the city is given into the hand\n",
       " of the Chaldeans, that fight against it, because of the sword, and of\n",
       " the famine, and of the pestilence. and what thou hast spoken is come\n",
       " to pass; and, behold, thou seest it. 25 And thou hast said unto me, O Lord GOD, Buy thee the field for\n",
       " money, and take witnesses; for the city is given into the hand of the\n",
       " Chaldeans., 1 Thus saith the LORD, Go and get a potter's earthen bottle, and\n",
       " take of the ancients of the people, and of the ancients of the\n",
       " priests; 19. 2 And go forth unto the valley of the son of Hinnom, which\n",
       " is by the entry of the east gate, and proclaim there the words that I\n",
       " shall tell thee, 19. 3 And say, Hear ye the word of the LORD, O kings\n",
       " of Judah, and inhabitants of Jerusalem; Thus saith the LORD of hosts,\n",
       " the God of Israel; Behold, I will bring evil upon this place, the\n",
       " which whosoever heareth, his ears shall tingle., 4 Wherefore gloriest thou in the valleys, thy flowing valley, O\n",
       " backsliding daughter? that trusted in her treasures, saying, Who shall\n",
       " come unto me? 5 Behold, I will bring a fear upon thee, saith the\n",
       " Lord GOD of hosts, from all those that be about thee; and ye shall be\n",
       " driven out every man right forth; and none shall gather up him that\n",
       " wandereth., that trusted in her treasures, saying, Who shall\n",
       " come unto me? 5 Behold, I will bring a fear upon thee, saith the\n",
       " Lord GOD of hosts, from all those that be about thee; and ye shall be\n",
       " driven out every man right forth; and none shall gather up him that\n",
       " wandereth. 6 And afterward I will bring again the captivity of the children of\n",
       " Ammon, saith the LORD., 14 Then came Jeremiah from Tophet, whither the LORD had sent him to\n",
       " prophesy; and he stood in the court of the LORD's house; and said to\n",
       " all the people, 19. 15 Thus saith the LORD of hosts, the God of Israel;\n",
       " Behold, I will bring upon this city and upon all her towns all the\n",
       " evil that I have pronounced against it, because they have hardened\n",
       " their necks, that they might not hear my words. 1 Now Pashur the son of Immer the priest, who was also chief\n",
       " governor in the house of the LORD, heard that Jeremiah prophesied\n",
       " these things., 2 Then Pashur smote Jeremiah the prophet, and put him in the stocks\n",
       " that were in the high gate of Benjamin, which was by the house of the\n",
       " LORD. 3 And it came to pass on the morrow, that Pashur brought forth\n",
       " Jeremiah out of the stocks. Then said Jeremiah unto him, The LORD hath\n",
       " not called thy name Pashur, but Magormissabib., 3 And it came to pass on the morrow, that Pashur brought forth\n",
       " Jeremiah out of the stocks. Then said Jeremiah unto him, The LORD hath\n",
       " not called thy name Pashur, but Magormissabib. 4 For thus saith the LORD, Behold, I will make thee a terror to\n",
       " thyself, and to all thy friends., Then said Jeremiah unto him, The LORD hath\n",
       " not called thy name Pashur, but Magormissabib. 4 For thus saith the LORD, Behold, I will make thee a terror to\n",
       " thyself, and to all thy friends. and they shall fall by the sword of\n",
       " their enemies, and thine eyes shall behold it., make thee mourning, as for an only son, most bitter\n",
       " lamentation. for the spoiler shall suddenly come upon us. 27 I have set thee for a tower and a fortress among my people, that\n",
       " thou mayest know and try their way., for the spoiler shall suddenly come upon us. 27 I have set thee for a tower and a fortress among my people, that\n",
       " thou mayest know and try their way. 28 They are all grievous revolters, walking with slanders., for the wicked are not plucked away. 30 Reprobate silver shall men call them, because the LORD hath\n",
       " rejected them. 1 The word that came to Jeremiah from the LORD, saying, 7., 30 Reprobate silver shall men call them, because the LORD hath\n",
       " rejected them. 1 The word that came to Jeremiah from the LORD, saying, 7. 2 Stand in\n",
       " the gate of the LORD's house, and proclaim there this word, and say,\n",
       " Hear the word of the LORD, all ye of Judah, that enter in at these\n",
       " gates to worship the LORD., 5 But thou\n",
       " shalt die in peace. and with the burnings of thy fathers, the former\n",
       " kings which were before thee, so shall they burn odours for thee; and\n",
       " they will lament thee, saying, Ah lord! for I have pronounced the\n",
       " word, saith the LORD., 1 The word which came\n",
       " unto Jeremiah from the LORD, when king Zedekiah sent unto him Pashur\n",
       " the son of Melchiah, and Zephaniah the son of Maaseiah the priest,\n",
       " saying, 21. 2 Enquire, I pray thee, of the LORD for us; for\n",
       " Nebuchadrezzar king of Babylon maketh war against us; if so be that\n",
       " the LORD will deal with us according to all his wondrous works, that\n",
       " he may go up from us. 3 Then said Jeremiah unto them, Thus shall ye say to Zedekiah., 8 Behold, ye trust in lying words, that cannot profit. 9 Will ye steal, murder, and commit adultery, and swear falsely, and\n",
       " burn incense unto Baal, and walk after other gods whom ye know not;\n",
       " 7. 10 And come and stand before me in this house, which is called by my\n",
       " name, and say, We are delivered to do all these abominations?, 10 And come and stand before me in this house, which is called by my\n",
       " name, and say, We are delivered to do all these abominations? 11 Is\n",
       " this house, which is called by my name, become a den of robbers in\n",
       " your eyes? Behold, even I have seen it, saith the LORD., and I will\n",
       " kindle a fire in the forest thereof, and it shall devour all things\n",
       " round about it. 1 Thus saith the LORD; Go down to the house of the king of Judah,\n",
       " and speak there this word, 22. 2 And say, Hear the word of the LORD, O\n",
       " king of Judah, that sittest upon the throne of David, thou, and thy\n",
       " servants, and thy people that enter in by these gates., 21 Thus saith the LORD of hosts, the God of Israel; Put your burnt\n",
       " offerings unto your sacrifices, and eat flesh. 22 For I spake not unto your fathers, nor commanded them in the day\n",
       " that I brought them out of the land of Egypt, concerning burnt\n",
       " offerings or sacrifices. 23 But this thing commanded I them, saying,\n",
       " Obey my voice, and I will be your God, and ye shall be my people., 22 For I spake not unto your fathers, nor commanded them in the day\n",
       " that I brought them out of the land of Egypt, concerning burnt\n",
       " offerings or sacrifices. 23 But this thing commanded I them, saying,\n",
       " Obey my voice, and I will be your God, and ye shall be my people. and\n",
       " walk ye in all the ways that I have commanded you, that it may be well\n",
       " unto you., 22 Behold, I will command, saith the LORD, and cause them to return\n",
       " to this city; and they shall fight against it, and take it, and burn\n",
       " it with fire. and I will make the cities of Judah a desolation without\n",
       " an inhabitant. 1 The word which came unto Jeremiah from the LORD in the days of\n",
       " Jehoiakim the son of Josiah king of Judah, saying, 35., 27 Therefore thou shalt speak all these words unto them; but they\n",
       " will not hearken to thee. thou shalt also call unto them; but they\n",
       " will not answer thee. 28 But thou shalt say unto them, This is a nation that obeyeth not\n",
       " the voice of the LORD their God, nor receiveth correction., thou shalt also call unto them; but they\n",
       " will not answer thee. 28 But thou shalt say unto them, This is a nation that obeyeth not\n",
       " the voice of the LORD their God, nor receiveth correction. truth is\n",
       " perished, and is cut off from their mouth., they shall\n",
       " remove, they shall depart, both man and beast. 4 In those days, and in that time, saith the LORD, the children of\n",
       " Israel shall come, they and the children of Judah together, going and\n",
       " weeping. they shall go, and seek the LORD their God., 16 Because the sons of Jonadab the son of Rechab have performed the\n",
       " commandment of their father, which he commanded them; but this people\n",
       " hath not hearkened unto me. 17 Therefore thus saith the LORD God of\n",
       " hosts, the God of Israel; Behold, I will bring upon Judah and upon all\n",
       " the inhabitants of Jerusalem all the evil that I have pronounced\n",
       " against them. because I have spoken unto them, but they have not\n",
       " heard; and I have called unto them, but they have not answered., 4 Moreover thou shalt say unto them, Thus saith the LORD; Shall they\n",
       " fall, and not arise? shall he turn away, and not return? 5 Why then\n",
       " is this people of Jerusalem slidden back by a perpetual backsliding?, and Baruch wrote\n",
       " from the mouth of Jeremiah all the words of the LORD, which he had\n",
       " spoken unto him, upon a roll of a book. 5 And Jeremiah commanded Baruch, saying, I am shut up; I cannot go\n",
       " into the house of the LORD. 6 Therefore go thou, and read in the\n",
       " roll, which thou hast written from my mouth, the words of the LORD in\n",
       " the ears of the people in the LORD's house upon the fasting day., 24 I have laid a\n",
       " snare for thee, and thou art also taken, O Babylon, and thou wast not\n",
       " aware. thou art found, and also caught, because thou hast striven\n",
       " against the LORD. 25 The LORD hath opened his armoury, and hath brought forth the\n",
       " weapons of his indignation., 6 In his days Judah shall be saved, and Israel shall dwell safely. and this is his name whereby he shall be called, THE LORD OUR\n",
       " RIGHTEOUSNESS. 7 Therefore, behold, the days come, saith the LORD, that they shall\n",
       " no more say, The LORD liveth, which brought up the children of Israel\n",
       " out of the land of Egypt; 23., and this is his name whereby he shall be called, THE LORD OUR\n",
       " RIGHTEOUSNESS. 7 Therefore, behold, the days come, saith the LORD, that they shall\n",
       " no more say, The LORD liveth, which brought up the children of Israel\n",
       " out of the land of Egypt; 23. 8 But, The LORD liveth, which brought up\n",
       " and which led the seed of the house of Israel out of the north\n",
       " country, and from all countries whither I had driven them; and they\n",
       " shall dwell in their own land., 7 Therefore, behold, the days come, saith the LORD, that they shall\n",
       " no more say, The LORD liveth, which brought up the children of Israel\n",
       " out of the land of Egypt; 23. 8 But, The LORD liveth, which brought up\n",
       " and which led the seed of the house of Israel out of the north\n",
       " country, and from all countries whither I had driven them; and they\n",
       " shall dwell in their own land. 9 Mine heart within me is broken because of the prophets; all my\n",
       " bones shake; I am like a drunken man, and like a man whom wine hath\n",
       " overcome, because of the LORD, and because of the words of his\n",
       " holiness., and when the\n",
       " Chaldeans that besieged Jerusalem heard tidings of them, they departed\n",
       " from Jerusalem. 6 Then came the word of the LORD unto the prophet Jeremiah saying,\n",
       " 37. 7 Thus saith the LORD, the God of Israel; Thus shall ye say to the\n",
       " king of Judah, that sent you unto me to enquire of me; Behold,\n",
       " Pharaoh's army, which is come forth to help you, shall return to Egypt\n",
       " into their own land., I have not spoken\n",
       " to them, yet they prophesied. 22 But if they had stood in my counsel, and had caused my people to\n",
       " hear my words, then they should have turned them from their evil way,\n",
       " and from the evil of their doings. 23 Am I a God at hand, saith the LORD, and not a God afar off?, 6 Then came the word of the LORD unto the prophet Jeremiah saying,\n",
       " 37. 7 Thus saith the LORD, the God of Israel; Thus shall ye say to the\n",
       " king of Judah, that sent you unto me to enquire of me; Behold,\n",
       " Pharaoh's army, which is come forth to help you, shall return to Egypt\n",
       " into their own land. 8 And the Chaldeans shall come again, and fight against this city,\n",
       " and take it, and burn it with fire., 7 Thus saith the LORD, the God of Israel; Thus shall ye say to the\n",
       " king of Judah, that sent you unto me to enquire of me; Behold,\n",
       " Pharaoh's army, which is come forth to help you, shall return to Egypt\n",
       " into their own land. 8 And the Chaldeans shall come again, and fight against this city,\n",
       " and take it, and burn it with fire. 9 Thus saith the LORD; Deceive not yourselves, saying, The\n",
       " Chaldeans shall surely depart from us., saith the LORD. 25 I have heard what the prophets said, that prophesy lies in my\n",
       " name, saying, I have dreamed, I have dreamed. 26 How long shall this be in the heart of the prophets that\n",
       " prophesy lies?, 12 Then\n",
       " Jeremiah went forth out of Jerusalem to go into the land of Benjamin,\n",
       " to separate himself thence in the midst of the people. 13 And when he was in the gate of Benjamin, a captain of the ward\n",
       " was there, whose name was Irijah, the son of Shelemiah, the son of\n",
       " Hananiah; and he took Jeremiah the prophet, saying, Thou fallest away\n",
       " to the Chaldeans. 14 Then said Jeremiah, It is false; I fall not away to the\n",
       " Chaldeans., for, said he, thou shalt be delivered into the hand of the\n",
       " king of Babylon. 18 Moreover Jeremiah said unto king Zedekiah, What have I offended\n",
       " against thee, or against thy servants, or against this people, that ye\n",
       " have put me in prison? 19 Where are now your prophets which\n",
       " prophesied unto you, saying, The king of Babylon shall not come\n",
       " against you, nor against this land?, 18 Moreover Jeremiah said unto king Zedekiah, What have I offended\n",
       " against thee, or against thy servants, or against this people, that ye\n",
       " have put me in prison? 19 Where are now your prophets which\n",
       " prophesied unto you, saying, The king of Babylon shall not come\n",
       " against you, nor against this land? 20 Therefore hear now, I pray\n",
       " thee, O my lord the king., therefore\n",
       " they shall not profit this people at all, saith the LORD. 33 And when this people, or the prophet, or a priest, shall ask\n",
       " thee, saying, What is the burden of the LORD? thou shalt then say unto\n",
       " them, What burden?, 33 And when this people, or the prophet, or a priest, shall ask\n",
       " thee, saying, What is the burden of the LORD? thou shalt then say unto\n",
       " them, What burden? I will even forsake you, saith the LORD., thou shalt then say unto\n",
       " them, What burden? I will even forsake you, saith the LORD. 34 And as for the prophet, and the priest, and the people, that\n",
       " shall say, The burden of the LORD, I will even punish that man and his\n",
       " house., 34 And as for the prophet, and the priest, and the people, that\n",
       " shall say, The burden of the LORD, I will even punish that man and his\n",
       " house. 35 Thus shall ye say every one to his neighbour, and every one to\n",
       " his brother, What hath the LORD answered? and, What hath the LORD\n",
       " spoken?, Thus Jeremiah remained in the court of the prison. 1 Then Shephatiah the son of Mattan, and Gedaliah the son of\n",
       " Pashur, and Jucal the son of Shelemiah, and Pashur the son of\n",
       " Malchiah, heard the words that Jeremiah had spoken unto all the\n",
       " people, saying, 38. 2 Thus saith the LORD, He that remaineth in this\n",
       " city shall die by the sword, by the famine, and by the pestilence., 1 Then Shephatiah the son of Mattan, and Gedaliah the son of\n",
       " Pashur, and Jucal the son of Shelemiah, and Pashur the son of\n",
       " Malchiah, heard the words that Jeremiah had spoken unto all the\n",
       " people, saying, 38. 2 Thus saith the LORD, He that remaineth in this\n",
       " city shall die by the sword, by the famine, and by the pestilence. but\n",
       " he that goeth forth to the Chaldeans shall live; for he shall have his\n",
       " life for a prey, and shall live., 36 And the burden of the LORD shall ye mention no more. for every man's word shall be his burden; for ye have perverted the\n",
       " words of the living God, of the LORD of hosts our God. 37 Thus shalt thou say to the prophet, What hath the LORD answered\n",
       " thee?, 6 Forasmuch as there is none like unto thee, O LORD; thou art\n",
       " great, and thy name is great in might. 7 Who would not fear thee, O King of nations? for to thee doth it\n",
       " appertain., for every man's word shall be his burden; for ye have perverted the\n",
       " words of the living God, of the LORD of hosts our God. 37 Thus shalt thou say to the prophet, What hath the LORD answered\n",
       " thee? and, What hath the LORD spoken?, 37 Thus shalt thou say to the prophet, What hath the LORD answered\n",
       " thee? and, What hath the LORD spoken? 38 But since ye say, The\n",
       " burden of the LORD; therefore thus saith the LORD; Because ye say this\n",
       " word, The burden of the LORD, and I have sent unto you, saying, Ye\n",
       " shall not say, The burden of the LORD; 23., for this man seeketh not the welfare of\n",
       " this people, but the hurt. 5 Then Zedekiah the king said, Behold, he is in your hand. for the\n",
       " king is not he that can do any thing against you., 10 And I will send the sword, the famine, and the pestilence, among\n",
       " them, till they be consumed from off the land that I gave unto them\n",
       " and to their fathers. 1 The word that came to Jeremiah concerning all the people of Judah\n",
       " in the fourth year of Jehoiakim the son of Josiah king of Judah, that\n",
       " was the first year of Nebuchadrezzar king of Babylon; 25. 2 The which\n",
       " Jeremiah the prophet spake unto all the people of Judah, and to all\n",
       " the inhabitants of Jerusalem, saying, 25., 14 Then Zedekiah the king sent, and took Jeremiah the prophet unto\n",
       " him into the third entry that is in the house of the LORD. and the\n",
       " king said unto Jeremiah, I will ask thee a thing; hide nothing from\n",
       " me. 15 Then Jeremiah said unto Zedekiah, If I declare it unto thee,\n",
       " wilt thou not surely put me to death?, 2 The which\n",
       " Jeremiah the prophet spake unto all the people of Judah, and to all\n",
       " the inhabitants of Jerusalem, saying, 25. 3 From the thirteenth year of\n",
       " Josiah the son of Amon king of Judah, even unto this day, that is the\n",
       " three and twentieth year, the word of the LORD hath come unto me, and\n",
       " I have spoken unto you, rising early and speaking; but ye have not\n",
       " hearkened. 4 And the LORD hath sent unto you all his servants the prophets,\n",
       " rising early and sending them; but ye have not hearkened, nor inclined\n",
       " your ear to hear., 15 Then Jeremiah said unto Zedekiah, If I declare it unto thee,\n",
       " wilt thou not surely put me to death? and if I give thee counsel, wilt\n",
       " thou not hearken unto me? 16 So Zedekiah the king sware secretly\n",
       " unto Jeremiah, saying, As the LORD liveth, that made us this soul, I\n",
       " will not put thee to death, neither will I give thee into the hand of\n",
       " these men that seek thy life., 20 But Jeremiah said, They shall not deliver thee. Obey, I beseech\n",
       " thee, the voice of the LORD, which I speak unto thee. so it shall be\n",
       " well unto thee, and thy soul shall live., Obey, I beseech\n",
       " thee, the voice of the LORD, which I speak unto thee. so it shall be\n",
       " well unto thee, and thy soul shall live. 21 But if thou refuse to go forth, this is the word that the LORD\n",
       " hath shewed me., so it shall be\n",
       " well unto thee, and thy soul shall live. 21 But if thou refuse to go forth, this is the word that the LORD\n",
       " hath shewed me. 22 And, behold, all the women that are left in the\n",
       " king of Judah's house shall be brought forth to the king of Babylon's\n",
       " princes, and those women shall say, Thy friends have set thee on, and\n",
       " have prevailed against thee., 21 But if thou refuse to go forth, this is the word that the LORD\n",
       " hath shewed me. 22 And, behold, all the women that are left in the\n",
       " king of Judah's house shall be brought forth to the king of Babylon's\n",
       " princes, and those women shall say, Thy friends have set thee on, and\n",
       " have prevailed against thee. thy feet are sunk in the mire, and they\n",
       " are turned away back., 22 And, behold, all the women that are left in the\n",
       " king of Judah's house shall be brought forth to the king of Babylon's\n",
       " princes, and those women shall say, Thy friends have set thee on, and\n",
       " have prevailed against thee. thy feet are sunk in the mire, and they\n",
       " are turned away back. 23 So they shall bring out all thy wives and thy children to the\n",
       " Chaldeans., thy feet are sunk in the mire, and they\n",
       " are turned away back. 23 So they shall bring out all thy wives and thy children to the\n",
       " Chaldeans. and thou shalt not escape out of their hand, but shalt be\n",
       " taken by the hand of the king of Babylon., 23 So they shall bring out all thy wives and thy children to the\n",
       " Chaldeans. and thou shalt not escape out of their hand, but shalt be\n",
       " taken by the hand of the king of Babylon. and thou shalt cause this\n",
       " city to be burned with fire., it is not\n",
       " in man that walketh to direct his steps. 24 O LORD, correct me, but with judgment; not in thine anger, lest\n",
       " thou bring me to nothing. 25 Pour out thy fury upon the heathen that know thee not, and upon\n",
       " the families that call not on thy name., 1 The word that came to Jeremiah from the LORD saying, 11. 2 Hear ye\n",
       " the words of this covenant, and speak unto the men of Judah, and to\n",
       " the inhabitants of Jerusalem; 11. 3 And say thou unto them, Thus saith\n",
       " the LORD God of Israel; Cursed be the man that obeyeth not the words\n",
       " of this covenant, 11., and he was there when Jerusalem was taken. 1 In the ninth year of Zedekiah king of Judah, in the tenth month,\n",
       " came Nebuchadrezzar king of Babylon and all his army against\n",
       " Jerusalem, and they besieged it. 2 And in the eleventh year of Zedekiah, in the fourth month, the\n",
       " ninth day of the month, the city was broken up., 27 Therefore thou shalt say unto them, Thus saith the LORD of\n",
       " hosts, the God of Israel; Drink ye, and be drunken, and spue, and\n",
       " fall, and rise no more, because of the sword which I will send among\n",
       " you. 28 And it shall be, if they refuse to take the cup at thine hand to\n",
       " drink, then shalt thou say unto them, Thus saith the LORD of hosts; Ye\n",
       " shall certainly drink. 29 For, lo, I begin to bring evil on the city which is called by my\n",
       " name, and should ye be utterly unpunished?, 28 And it shall be, if they refuse to take the cup at thine hand to\n",
       " drink, then shalt thou say unto them, Thus saith the LORD of hosts; Ye\n",
       " shall certainly drink. 29 For, lo, I begin to bring evil on the city which is called by my\n",
       " name, and should ye be utterly unpunished? Ye shall not be unpunished., 9 Then Nebuzaradan the captain of the guard carried away captive\n",
       " into Babylon the remnant of the people that remained in the city, and\n",
       " those that fell away, that fell to him, with the rest of the people\n",
       " that remained. 10 But Nebuzaradan the captain of the guard left of the poor of the\n",
       " people, which had nothing, in the land of Judah, and gave them\n",
       " vineyards and fields at the same time. 11 Now Nebuchadrezzar king of Babylon gave charge concerning\n",
       " Jeremiah to Nebuzaradan the captain of the guard, saying, 39., so he dwelt among the\n",
       " people. 15 Now the word of the LORD came unto Jeremiah, while he was shut\n",
       " up in the court of the prison, saying, 39. 16 Go and speak to\n",
       " Ebedmelech the Ethiopian, saying, Thus saith the LORD of hosts, the\n",
       " God of Israel; Behold, I will bring my words upon this city for evil,\n",
       " and not for good; and they shall be accomplished in that day before\n",
       " thee., 20 But, O LORD of hosts, that judgest righteously, that triest the\n",
       " reins and the heart, let me see thy vengeance on them. for unto thee\n",
       " have I revealed my cause. 21 Therefore thus saith the LORD of the men of Anathoth, that seek\n",
       " thy life, saying, Prophesy not in the name of the LORD, that thou die\n",
       " not by our hand., for unto thee\n",
       " have I revealed my cause. 21 Therefore thus saith the LORD of the men of Anathoth, that seek\n",
       " thy life, saying, Prophesy not in the name of the LORD, that thou die\n",
       " not by our hand. 22 Therefore thus saith the LORD of hosts, Behold,\n",
       " I will punish them., 21 Therefore thus saith the LORD of the men of Anathoth, that seek\n",
       " thy life, saying, Prophesy not in the name of the LORD, that thou die\n",
       " not by our hand. 22 Therefore thus saith the LORD of hosts, Behold,\n",
       " I will punish them. the young men shall die by the sword; their sons\n",
       " and their daughters shall die by famine., 22 Therefore thus saith the LORD of hosts, Behold,\n",
       " I will punish them. the young men shall die by the sword; their sons\n",
       " and their daughters shall die by famine. 23 And there shall be no\n",
       " remnant of them., 4 And thou shalt say unto them, Thus saith the LORD; If ye will not\n",
       " hearken to me, to walk in my law, which I have set before you, 26. 5 To\n",
       " hearken to the words of my servants the prophets, whom I sent unto\n",
       " you, both rising up early, and sending them, but ye have not\n",
       " hearkened; 26. 6 Then will I make this house like Shiloh, and will make\n",
       " this city a curse to all the nations of the earth., 6 Then will I make this house like Shiloh, and will make\n",
       " this city a curse to all the nations of the earth. 7 So the priests and the prophets and all the people heard Jeremiah\n",
       " speaking these words in the house of the LORD. 8 Now it came to pass, when Jeremiah had made an end of speaking\n",
       " all that the LORD had commanded him to speak unto all the people, that\n",
       " the priests and the prophets and all the people took him, saying, Thou\n",
       " shalt surely die., 7 So the priests and the prophets and all the people heard Jeremiah\n",
       " speaking these words in the house of the LORD. 8 Now it came to pass, when Jeremiah had made an end of speaking\n",
       " all that the LORD had commanded him to speak unto all the people, that\n",
       " the priests and the prophets and all the people took him, saying, Thou\n",
       " shalt surely die. 9 Why hast thou prophesied in the name of the LORD, saying, This\n",
       " house shall be like Shiloh, and this city shall be desolate without an\n",
       " inhabitant?, 8 Now it came to pass, when Jeremiah had made an end of speaking\n",
       " all that the LORD had commanded him to speak unto all the people, that\n",
       " the priests and the prophets and all the people took him, saying, Thou\n",
       " shalt surely die. 9 Why hast thou prophesied in the name of the LORD, saying, This\n",
       " house shall be like Shiloh, and this city shall be desolate without an\n",
       " inhabitant? And all the people were gathered against Jeremiah in the\n",
       " house of the LORD., And all the people were gathered against Jeremiah in the\n",
       " house of the LORD. 10 When the princes of Judah heard these things, then they came up\n",
       " from the king's house unto the house of the LORD, and sat down in the\n",
       " entry of the new gate of the LORD's house. 11 Then spake the priests and the prophets unto the princes and to\n",
       " all the people, saying, This man is worthy to die; for he hath\n",
       " prophesied against this city, as ye have heard with your ears.]"
      ]
     },
     "execution_count": 32,
     "metadata": {},
     "output_type": "execute_result"
    }
   ],
   "source": [
    "reducedSpacyBooks['jeremiah-1']"
   ]
  },
  {
   "cell_type": "code",
   "execution_count": 33,
   "metadata": {},
   "outputs": [
    {
     "data": {
      "text/plain": [
       "123"
      ]
     },
     "execution_count": 33,
     "metadata": {},
     "output_type": "execute_result"
    }
   ],
   "source": [
    "len(reducedBooks['isaiah'])"
   ]
  },
  {
   "cell_type": "code",
   "execution_count": 34,
   "metadata": {},
   "outputs": [
    {
     "data": {
      "text/plain": [
       "170"
      ]
     },
     "execution_count": 34,
     "metadata": {},
     "output_type": "execute_result"
    }
   ],
   "source": [
    "len(reducedBooks['jeremiah-1'])"
   ]
  },
  {
   "cell_type": "code",
   "execution_count": 35,
   "metadata": {},
   "outputs": [
    {
     "data": {
      "text/plain": [
       "['4 Then the word of the LORD came unto me, saying, 1. 5 Before I\\nformed thee in the belly I knew thee; and before thou camest forth out\\nof the womb I sanctified thee, and I ordained thee a prophet unto the\\nnations. 6 Then said I, Ah, Lord GOD!',\n",
       " '5 Before I\\nformed thee in the belly I knew thee; and before thou camest forth out\\nof the womb I sanctified thee, and I ordained thee a prophet unto the\\nnations. 6 Then said I, Ah, Lord GOD! behold, I cannot speak.',\n",
       " 'for of a truth the LORD hath sent me\\nunto you to speak all these words in your ears. 16 Then said the princes and all the people unto the priests and to\\nthe prophets; This man is not worthy to die. for he hath spoken to us\\nin the name of the LORD our God.',\n",
       " '6 Then said I, Ah, Lord GOD! behold, I cannot speak. for I am a\\nchild.',\n",
       " 'for I am a\\nchild. 7 But the LORD said unto me, Say not, I am a child. for thou shalt\\ngo to all that I shall send thee, and whatsoever I command thee thou\\nshalt speak.',\n",
       " '7 But the LORD said unto me, Say not, I am a child. for thou shalt\\ngo to all that I shall send thee, and whatsoever I command thee thou\\nshalt speak. 8 Be not afraid of their faces.',\n",
       " 'for thou shalt\\ngo to all that I shall send thee, and whatsoever I command thee thou\\nshalt speak. 8 Be not afraid of their faces. for I am with thee to deliver thee,\\nsaith the LORD.',\n",
       " 'behold, I cannot speak. for I am a\\nchild. 7 But the LORD said unto me, Say not, I am a child.',\n",
       " 'for I am with thee to deliver thee,\\nsaith the LORD. 9 Then the LORD put forth his hand, and touched my mouth. And the\\nLORD said unto me, Behold, I have put my words in thy mouth.',\n",
       " '64 And thou shalt say, Thus shall Babylon sink, and\\nshall not rise from the evil that I will bring upon her. and they\\nshall be weary. Thus far are the words of Jeremiah.',\n",
       " 'And the\\nLORD said unto me, Behold, I have put my words in thy mouth. 10 See, I have this day set thee over the nations and over the\\nkingdoms, to root out, and to pull down, and to destroy, and to throw\\ndown, to build, and to plant. 11 Moreover the word of the LORD came unto me, saying, Jeremiah,\\nwhat seest thou?',\n",
       " '16 Then said the princes and all the people unto the priests and to\\nthe prophets; This man is not worthy to die. for he hath spoken to us\\nin the name of the LORD our God. 17 Then rose up certain of the elders of the land, and spake to all\\nthe assembly of the people, saying, 26.',\n",
       " '18 For, behold, I have made thee this day a defenced city, and an\\niron pillar, and brasen walls against the whole land, against the\\nkings of Judah, against the princes thereof, against the priests\\nthereof, and against the people of the land. 19 And they shall fight against thee; but they shall not prevail\\nagainst thee; for I am with thee, saith the LORD, to deliver thee. 1 Moreover the word of the LORD came to me, saying, 2.',\n",
       " '19 And they shall fight against thee; but they shall not prevail\\nagainst thee; for I am with thee, saith the LORD, to deliver thee. 1 Moreover the word of the LORD came to me, saying, 2. 2 Go and cry\\nin the ears of Jerusalem, saying, Thus saith the LORD; I remember\\nthee, the kindness of thy youth, the love of thine espousals, when\\nthou wentest after me in the wilderness, in a land that was not sown.',\n",
       " '1 Moreover the word of the LORD came to me, saying, 2. 2 Go and cry\\nin the ears of Jerusalem, saying, Thus saith the LORD; I remember\\nthee, the kindness of thy youth, the love of thine espousals, when\\nthou wentest after me in the wilderness, in a land that was not sown. 3 Israel was holiness unto the LORD, and the firstfruits of his\\nincrease.',\n",
       " '2 Go and cry\\nin the ears of Jerusalem, saying, Thus saith the LORD; I remember\\nthee, the kindness of thy youth, the love of thine espousals, when\\nthou wentest after me in the wilderness, in a land that was not sown. 3 Israel was holiness unto the LORD, and the firstfruits of his\\nincrease. all that devour him shall offend; evil shall come upon them,\\nsaith the LORD.',\n",
       " '12 I spake also to Zedekiah king of Judah according to all these\\nwords, saying, Bring your necks under the yoke of the king of Babylon,\\nand serve him and his people, and live. 13 Why will ye die, thou and thy people, by the sword, by the\\nfamine, and by the pestilence, as the LORD hath spoken against the\\nnation that will not serve the king of Babylon? 14 Therefore\\nhearken not unto the words of the prophets that speak unto you,\\nsaying, Ye shall not serve the king of Babylon.',\n",
       " '13 Why will ye die, thou and thy people, by the sword, by the\\nfamine, and by the pestilence, as the LORD hath spoken against the\\nnation that will not serve the king of Babylon? 14 Therefore\\nhearken not unto the words of the prophets that speak unto you,\\nsaying, Ye shall not serve the king of Babylon. for they prophesy a\\nlie unto you.',\n",
       " '14 Therefore\\nhearken not unto the words of the prophets that speak unto you,\\nsaying, Ye shall not serve the king of Babylon. for they prophesy a\\nlie unto you. 15 For I have not sent them, saith the LORD, yet they prophesy a\\nlie in my name; that I might drive you out, and that ye might perish,\\nye, and the prophets that prophesy unto you.',\n",
       " \"for they prophesy a\\nlie unto you. 15 For I have not sent them, saith the LORD, yet they prophesy a\\nlie in my name; that I might drive you out, and that ye might perish,\\nye, and the prophets that prophesy unto you. 16 Also I spake to the priests and to all this people, saying, Thus\\nsaith the LORD; Hearken not to the words of your prophets that\\nprophesy unto you, saying, Behold, the vessels of the LORD's house\\nshall now shortly be brought again from Babylon.\",\n",
       " \"15 For I have not sent them, saith the LORD, yet they prophesy a\\nlie in my name; that I might drive you out, and that ye might perish,\\nye, and the prophets that prophesy unto you. 16 Also I spake to the priests and to all this people, saying, Thus\\nsaith the LORD; Hearken not to the words of your prophets that\\nprophesy unto you, saying, Behold, the vessels of the LORD's house\\nshall now shortly be brought again from Babylon. for they prophesy a\\nlie unto you.\",\n",
       " \"16 Also I spake to the priests and to all this people, saying, Thus\\nsaith the LORD; Hearken not to the words of your prophets that\\nprophesy unto you, saying, Behold, the vessels of the LORD's house\\nshall now shortly be brought again from Babylon. for they prophesy a\\nlie unto you. 17 Hearken not unto them; serve the king of Babylon, and live.\",\n",
       " '11 For as the girdle cleaveth to the loins of a man, so have I\\ncaused to cleave unto me the whole house of Israel and the whole house\\nof Judah, saith the LORD; that they might be unto me for a people, and\\nfor a name, and for a praise, and for a glory. but they would not\\nhear. 12 Therefore thou shalt speak unto them this word; Thus saith the\\nLORD God of Israel, Every bottle shall be filled with wine.',\n",
       " 'but they would not\\nhear. 12 Therefore thou shalt speak unto them this word; Thus saith the\\nLORD God of Israel, Every bottle shall be filled with wine. and they\\nshall say unto thee, Do we not certainly know that every bottle shall\\nbe filled with wine?',\n",
       " \"12 Therefore thou shalt speak unto them this word; Thus saith the\\nLORD God of Israel, Every bottle shall be filled with wine. and they\\nshall say unto thee, Do we not certainly know that every bottle shall\\nbe filled with wine? 13 Then shalt thou say unto them, Thus saith\\nthe LORD, Behold, I will fill all the inhabitants of this land, even\\nthe kings that sit upon David's throne, and the priests, and the\\nprophets, and all the inhabitants of Jerusalem, with drunkenness.\",\n",
       " \"and they\\nshall say unto thee, Do we not certainly know that every bottle shall\\nbe filled with wine? 13 Then shalt thou say unto them, Thus saith\\nthe LORD, Behold, I will fill all the inhabitants of this land, even\\nthe kings that sit upon David's throne, and the priests, and the\\nprophets, and all the inhabitants of Jerusalem, with drunkenness. 14 And I will dash them one against another, even the fathers and\\nthe sons together, saith the LORD.\",\n",
       " '8 Then the word of the LORD came unto me, saying, 13. 9 Thus saith\\nthe LORD, After this manner will I mar the pride of Judah, and the\\ngreat pride of Jerusalem. 10 This evil people, which refuse to hear my words, which walk in\\nthe imagination of their heart, and walk after other gods, to serve\\nthem, and to worship them, shall even be as this girdle, which is good\\nfor nothing.',\n",
       " '21\\nYea, thus saith the LORD of hosts, the God of Israel, concerning the\\nvessels that remain in the house of the LORD, and in the house of the\\nking of Judah and of Jerusalem; 27. 22 They shall be carried to\\nBabylon, and there shall they be until the day that I visit them,\\nsaith the LORD; then will I bring them up, and restore them to this\\nplace. 1 And it came to pass the same year, in the beginning of the reign\\nof Zedekiah king of Judah, in the fourth year, and in the fifth month,\\nthat Hananiah the son of Azur the prophet, which was of Gibeon, spake\\nunto me in the house of the LORD, in the presence of the priests and\\nof all the people, saying, 28.',\n",
       " '22 They shall be carried to\\nBabylon, and there shall they be until the day that I visit them,\\nsaith the LORD; then will I bring them up, and restore them to this\\nplace. 1 And it came to pass the same year, in the beginning of the reign\\nof Zedekiah king of Judah, in the fourth year, and in the fifth month,\\nthat Hananiah the son of Azur the prophet, which was of Gibeon, spake\\nunto me in the house of the LORD, in the presence of the priests and\\nof all the people, saying, 28. 2 Thus speaketh the LORD of hosts, the\\nGod of Israel, saying, I have broken the yoke of the king of Babylon.',\n",
       " '1 Then all the captains of the forces, and Johanan the son of\\nKareah, and Jezaniah the son of Hoshaiah, and all the people from the\\nleast even unto the greatest, came near, 42. 2 And said unto Jeremiah\\nthe prophet, Let, we beseech thee, our supplication be accepted before\\nthee, and pray for us unto the LORD thy God, even for all this\\nremnant; (for we are left but a few of many, as thine eyes do behold\\nus. ) 3 That the LORD thy God may shew us the way wherein we may\\nwalk, and the thing that we may do.',\n",
       " '4 And I will\\nbring again to this place Jeconiah the son of Jehoiakim king of Judah,\\nwith all the captives of Judah, that went into Babylon, saith the\\nLORD. for I will break the yoke of the king of Babylon. 5 Then the prophet Jeremiah said unto the prophet Hananiah in the\\npresence of the priests, and in the presence of all the people that\\nstood in the house of the LORD, 28.',\n",
       " 'for I will break the yoke of the king of Babylon. 5 Then the prophet Jeremiah said unto the prophet Hananiah in the\\npresence of the priests, and in the presence of all the people that\\nstood in the house of the LORD, 28. 6 Even the prophet Jeremiah said,\\nAmen.',\n",
       " '5 Then the prophet Jeremiah said unto the prophet Hananiah in the\\npresence of the priests, and in the presence of all the people that\\nstood in the house of the LORD, 28. 6 Even the prophet Jeremiah said,\\nAmen. the LORD do so.',\n",
       " '6 Whether it be good, or whether it be evil, we will obey the voice\\nof the LORD our God, to whom we send thee; that it may be well with\\nus, when we obey the voice of the LORD our God. 7 And it came to pass after ten days, that the word of the LORD\\ncame unto Jeremiah. 8 Then called he Johanan the son of Kareah, and all the captains of\\nthe forces which were with him, and all the people from the least even\\nto the greatest, 42.',\n",
       " '20 Lift up your eyes, and behold them that come from the north. where is the flock that was given thee, thy beautiful flock? 21\\nWhat wilt thou say when he shall punish thee?',\n",
       " '7 And it came to pass after ten days, that the word of the LORD\\ncame unto Jeremiah. 8 Then called he Johanan the son of Kareah, and all the captains of\\nthe forces which were with him, and all the people from the least even\\nto the greatest, 42. 9 And said unto them, Thus saith the LORD, the God\\nof Israel, unto whom ye sent me to present your supplication before\\nhim; 42.',\n",
       " '26 As the thief is ashamed when he is found, so is the house of\\nIsrael ashamed; they, their kings, their princes, and their priests,\\nand their prophets. 27 Saying to a stock, Thou art my father; and to a stone, Thou hast\\nbrought me forth. for they have turned their back unto me, and not\\ntheir face.',\n",
       " '22 Now therefore know certainly that ye shall die by the sword, by\\nthe famine, and by the pestilence, in the place whither ye desire to\\ngo and to sojourn. 1 And it came to pass, that when Jeremiah had made an end of\\nspeaking unto all the people all the words of the LORD their God, for\\nwhich the LORD their God had sent him to them, even all these words,\\n43. 2 Then spake Azariah the son of Hoshaiah, and Johanan the son of\\nKareah, and all the proud men, saying unto Jeremiah, Thou speakest\\nfalsely.',\n",
       " '9 Why shouldest thou be\\nas a man astonied, as a mighty man that cannot save? yet thou, O LORD,\\nart in the midst of us, and we are called by thy name; leave us not. 10 Thus saith the LORD unto this people, Thus have they loved to\\nwander, they have not refrained their feet, therefore the LORD doth\\nnot accept them; he will now remember their iniquity, and visit their\\nsins.',\n",
       " 'yet thou, O LORD,\\nart in the midst of us, and we are called by thy name; leave us not. 10 Thus saith the LORD unto this people, Thus have they loved to\\nwander, they have not refrained their feet, therefore the LORD doth\\nnot accept them; he will now remember their iniquity, and visit their\\nsins. 11 Then said the LORD unto me, Pray not for this people for their\\ngood.',\n",
       " 'Have I been a\\nwilderness unto Israel? a land of darkness? wherefore say my people,\\nWe are lords; we will come no more unto thee?',\n",
       " 'but I will\\nconsume them by the sword, and by the famine, and by the pestilence. 13 Then said I, Ah, Lord GOD! behold, the prophets say unto them,\\nYe shall not see the sword, neither shall ye have famine; but I will\\ngive you assured peace in this place.',\n",
       " '13 Then said I, Ah, Lord GOD! behold, the prophets say unto them,\\nYe shall not see the sword, neither shall ye have famine; but I will\\ngive you assured peace in this place. 14 Then the LORD said unto me, The prophets prophesy lies in my\\nname.',\n",
       " '13 He shall break also the images of Bethshemesh, that is in the\\nland of Egypt; and the houses of the gods of the Egyptians shall he\\nburn with fire. 1 The word that came to Jeremiah concerning all the Jews which\\ndwell in the land of Egypt, which dwell at Migdol, and at Tahpanhes,\\nand at Noph, and in the country of Pathros, saying, 44. 2 Thus saith\\nthe LORD of hosts, the God of Israel; Ye have seen all the evil that I\\nhave brought upon Jerusalem, and upon all the cities of Judah; and,\\nbehold, this day they are a desolation, and no man dwelleth therein,\\n44.',\n",
       " '15 Therefore thus saith the LORD concerning the prophets that\\nprophesy in my name, and I sent them not, yet they say, Sword and\\nfamine shall not be in this land; By sword and famine shall those\\nprophets be consumed. 16 And the people to whom they prophesy shall be cast out in the\\nstreets of Jerusalem because of the famine and the sword; and they\\nshall have none to bury them, them, their wives, nor their sons, nor\\ntheir daughters. for I will pour their wickedness upon them.',\n",
       " '20 Hear ye therefore the word of the LORD, all ye of the captivity,\\nwhom I have sent from Jerusalem to Babylon. 21 Thus saith the LORD\\nof hosts, the God of Israel, of Ahab the son of Kolaiah, and of\\nZedekiah the son of Maaseiah, which prophesy a lie unto you in my\\nname; Behold, I will deliver them into the hand of Nebuchadrezzar king\\nof Babylon; and he shall slay them before your eyes; 29. 22 And of them\\nshall be taken up a curse by all the captivity of Judah which are in\\nBabylon, saying, The LORD make thee like Zedekiah and like Ahab, whom\\nthe king of Babylon roasted in the fire; 29.',\n",
       " \"21 Thus saith the LORD\\nof hosts, the God of Israel, of Ahab the son of Kolaiah, and of\\nZedekiah the son of Maaseiah, which prophesy a lie unto you in my\\nname; Behold, I will deliver them into the hand of Nebuchadrezzar king\\nof Babylon; and he shall slay them before your eyes; 29. 22 And of them\\nshall be taken up a curse by all the captivity of Judah which are in\\nBabylon, saying, The LORD make thee like Zedekiah and like Ahab, whom\\nthe king of Babylon roasted in the fire; 29. 23 Because they have\\ncommitted villany in Israel, and have committed adultery with their\\nneighbours' wives, and have spoken lying words in my name, which I\\nhave not commanded them; even I know, and am a witness, saith the\\nLORD.\",\n",
       " \"22 And of them\\nshall be taken up a curse by all the captivity of Judah which are in\\nBabylon, saying, The LORD make thee like Zedekiah and like Ahab, whom\\nthe king of Babylon roasted in the fire; 29. 23 Because they have\\ncommitted villany in Israel, and have committed adultery with their\\nneighbours' wives, and have spoken lying words in my name, which I\\nhave not commanded them; even I know, and am a witness, saith the\\nLORD. 24 Thus shalt thou also speak to Shemaiah the Nehelamite, saying,\\n29.\",\n",
       " \"37 Yea, thou shalt go forth from him, and thine hands upon thine\\nhead. for the LORD hath rejected thy confidences, and thou shalt not\\nprosper in them. 1 They say, If a man put away his wife, and she go from him, and\\nbecome another man's, shall he return unto her again?\",\n",
       " \"for the LORD hath rejected thy confidences, and thou shalt not\\nprosper in them. 1 They say, If a man put away his wife, and she go from him, and\\nbecome another man's, shall he return unto her again? shall not that\\nland be greatly polluted?\",\n",
       " \"1 They say, If a man put away his wife, and she go from him, and\\nbecome another man's, shall he return unto her again? shall not that\\nland be greatly polluted? but thou hast played the harlot with many\\nlovers; yet return again to me, saith the LORD.\",\n",
       " '24 Thus shalt thou also speak to Shemaiah the Nehelamite, saying,\\n29. 25 Thus speaketh the LORD of hosts, the God of Israel, saying,\\nBecause thou hast sent letters in thy name unto all the people that\\nare at Jerusalem, and to Zephaniah the son of Maaseiah the priest, and\\nto all the priests, saying, 29. 26 The LORD hath made thee priest in\\nthe stead of Jehoiada the priest, that ye should be officers in the\\nhouse of the LORD, for every man that is mad, and maketh himself a\\nprophet, that thou shouldest put him in prison, and in the stocks.',\n",
       " \"23 Because they have\\ncommitted villany in Israel, and have committed adultery with their\\nneighbours' wives, and have spoken lying words in my name, which I\\nhave not commanded them; even I know, and am a witness, saith the\\nLORD. 24 Thus shalt thou also speak to Shemaiah the Nehelamite, saying,\\n29. 25 Thus speaketh the LORD of hosts, the God of Israel, saying,\\nBecause thou hast sent letters in thy name unto all the people that\\nare at Jerusalem, and to Zephaniah the son of Maaseiah the priest, and\\nto all the priests, saying, 29.\",\n",
       " 'for none shall return but such as\\nshall escape. 15 Then all the men which knew that their wives had burned incense\\nunto other gods, and all the women that stood by, a great multitude,\\neven all the people that dwelt in the land of Egypt, in Pathros,\\nanswered Jeremiah, saying, 44. 16 As for the word that thou hast spoken\\nunto us in the name of the LORD, we will not hearken unto thee.',\n",
       " 'he shall not have a man to dwell among this\\npeople; neither shall he behold the good that I will do for my people,\\nsaith the LORD; because he hath taught rebellion against the LORD. 1 The word that came to Jeremiah from the LORD, saying, 30. 2 Thus\\nspeaketh the LORD God of Israel, saying, Write thee all the words that\\nI have spoken unto thee in a book.',\n",
       " '1 The word that came to Jeremiah from the LORD, saying, 30. 2 Thus\\nspeaketh the LORD God of Israel, saying, Write thee all the words that\\nI have spoken unto thee in a book. 3 For, lo, the days come, saith the LORD, that I will bring again\\nthe captivity of my people Israel and Judah, saith the LORD.',\n",
       " '2 Thus\\nspeaketh the LORD God of Israel, saying, Write thee all the words that\\nI have spoken unto thee in a book. 3 For, lo, the days come, saith the LORD, that I will bring again\\nthe captivity of my people Israel and Judah, saith the LORD. and I\\nwill cause them to return to the land that I gave to their fathers,\\nand they shall possess it.',\n",
       " 'therefore we will wait upon thee. for thou hast made all these\\nthings. 1 Then said the LORD unto me, Though Moses and Samuel stood before\\nme, yet my mind could not be toward this people.',\n",
       " 'for thou hast made all these\\nthings. 1 Then said the LORD unto me, Though Moses and Samuel stood before\\nme, yet my mind could not be toward this people. cast them out of my\\nsight, and let them go forth.',\n",
       " 'cast them out of my\\nsight, and let them go forth. 2 And it shall come to pass, if they say unto thee, Whither shall\\nwe go forth? then thou shalt tell them, Thus saith the LORD; Such as\\nare for death, to death; and such as are for the sword, to the sword;\\nand such as are for the famine, to the famine; and such as are for the\\ncaptivity, to the captivity.',\n",
       " '2 And it shall come to pass, if they say unto thee, Whither shall\\nwe go forth? then thou shalt tell them, Thus saith the LORD; Such as\\nare for death, to death; and such as are for the sword, to the sword;\\nand such as are for the famine, to the famine; and such as are for the\\ncaptivity, to the captivity. 3 And I will appoint over them four kinds, saith the LORD.',\n",
       " '25 Thus saith the LORD of hosts, the God of Israel, saying;\\nYe and your wives have both spoken with your mouths, and fulfilled\\nwith your hand, saying, We will surely perform our vows that we have\\nvowed, to burn incense to the queen of heaven, and to pour out drink\\nofferings unto her. ye will surely accomplish your vows, and surely\\nperform your vows. 26 Therefore hear ye the word of the LORD, all Judah that dwell in\\nthe land of Egypt; Behold, I have sworn by my great name, saith the\\nLORD, that my name shall no more be named in the mouth of any man of\\nJudah in all the land of Egypt, saying, The Lord GOD liveth.',\n",
       " 'or who shall\\nbemoan thee? or who shall go aside to ask how thou doest? 6 Thou\\nhast forsaken me, saith the LORD, thou art gone backward.',\n",
       " '1 The word that Jeremiah the prophet spake unto Baruch the son of\\nNeriah, when he had written these words in a book at the mouth of\\nJeremiah, in the fourth year of Jehoiakim the son of Josiah king of\\nJudah, saying, 45. 2 Thus saith the LORD, the God of Israel, unto thee,\\nO Baruch. 3 Thou didst say, Woe is me now!',\n",
       " '18 In those days the house of Judah shall walk with the house of\\nIsrael, and they shall come together out of the land of the north to\\nthe land that I have given for an inheritance unto your fathers. 19 But I said, How shall I put thee among the children, and give\\nthee a pleasant land, a goodly heritage of the hosts of nations? and I\\nsaid, Thou shalt call me, My father; and shalt not turn away from me.',\n",
       " '19 But I said, How shall I put thee among the children, and give\\nthee a pleasant land, a goodly heritage of the hosts of nations? and I\\nsaid, Thou shalt call me, My father; and shalt not turn away from me. 20 Surely as a wife treacherously departeth from her husband, so\\nhave ye dealt treacherously with me, O house of Israel, saith the\\nLORD.',\n",
       " 'and I\\nsaid, Thou shalt call me, My father; and shalt not turn away from me. 20 Surely as a wife treacherously departeth from her husband, so\\nhave ye dealt treacherously with me, O house of Israel, saith the\\nLORD. 21 A voice was heard upon the high places, weeping and supplications\\nof the children of Israel.',\n",
       " '4 Thus shalt thou say unto him, The LORD saith thus; Behold, that\\nwhich I have built will I break down, and that which I have planted I\\nwill pluck up, even this whole land. 5 And seekest thou great things for thyself? seek them not.',\n",
       " 'seek them not. for,\\nbehold, I will bring evil upon all flesh, saith the LORD. but thy life\\nwill I give unto thee for a prey in all places whither thou goest.',\n",
       " 'Behold, we come unto thee; for thou art the LORD our God. 23 Truly in vain is salvation hoped for from the hills, and from the\\nmultitude of mountains. truly in the LORD our God is the salvation of\\nIsrael.',\n",
       " '24 For shame hath devoured the labour of our fathers from our youth;\\ntheir flocks and their herds, their sons and their daughters. 25 We lie down in our shame, and our confusion covereth us. for we\\nhave sinned against the LORD our God, we and our fathers, from our\\nyouth even unto this day, and have not obeyed the voice of the LORD\\nour God.',\n",
       " 'for who is this that engaged his\\nheart to approach unto me? saith the LORD. 22 And ye shall be my people, and I will be your God.',\n",
       " 'saith the LORD. 22 And ye shall be my people, and I will be your God. 23 Behold, the whirlwind of the LORD goeth forth with fury, a\\ncontinuing whirlwind.',\n",
       " '22 And ye shall be my people, and I will be your God. 23 Behold, the whirlwind of the LORD goeth forth with fury, a\\ncontinuing whirlwind. it shall fall with pain upon the head of the\\nwicked.',\n",
       " '1 At the same time, saith the LORD, will I be the God of all the\\nfamilies of Israel, and they shall be my people. 2 Thus saith the LORD, The people which were left of the sword\\nfound grace in the wilderness; even Israel, when I went to cause him\\nto rest. 3 The LORD hath appeared of old unto me, saying, Yea, I have loved\\nthee with an everlasting love.',\n",
       " 'wilt thou be altogether unto me as a liar, and as waters\\nthat fail? 19 Therefore thus saith the LORD, If thou return, then\\nwill I bring thee again, and thou shalt stand before me. and if thou\\ntake forth the precious from the vile, thou shalt be as my mouth.',\n",
       " '19 Therefore thus saith the LORD, If thou return, then\\nwill I bring thee again, and thou shalt stand before me. and if thou\\ntake forth the precious from the vile, thou shalt be as my mouth. let\\nthem return unto thee; but return not thou unto them.',\n",
       " 'and if thou\\ntake forth the precious from the vile, thou shalt be as my mouth. let\\nthem return unto thee; but return not thou unto them. 20 And I will make thee unto this people a fenced brasen wall.',\n",
       " '3 The LORD hath appeared of old unto me, saying, Yea, I have loved\\nthee with an everlasting love. therefore with lovingkindness have I\\ndrawn thee. 4 Again I will build thee, and thou shalt be built, O virgin of\\nIsrael.',\n",
       " '21 And I will deliver thee out of the hand of the wicked, and I\\nwill redeem thee out of the hand of the terrible. 1 The word of the LORD came also unto me, saying, 16. 2 Thou shalt\\nnot take thee a wife, neither shalt thou have sons or daughters in\\nthis place.',\n",
       " '1 The word of the LORD came also unto me, saying, 16. 2 Thou shalt\\nnot take thee a wife, neither shalt thou have sons or daughters in\\nthis place. 3 For thus saith the LORD concerning the sons and concerning the\\ndaughters that are born in this place, and concerning their mothers\\nthat bare them, and concerning their fathers that begat them in this\\nland; 16.',\n",
       " 'publish ye, praise ye, and say, O\\nLORD, save thy people, the remnant of Israel. 8 Behold, I will bring them from the north country, and gather them\\nfrom the coasts of the earth, and with them the blind and the lame,\\nthe woman with child and her that travaileth with child together. a\\ngreat company shall return thither.',\n",
       " '10 And it shall come to pass, when thou shalt shew this people all\\nthese words, and they shall say unto thee, Wherefore hath the LORD\\npronounced all this great evil against us? or what is our iniquity? or\\nwhat is our sin that we have committed against the LORD our God?',\n",
       " '19 O LORD, my strength, and my fortress, and my refuge in the day\\nof affliction, the Gentiles shall come unto thee from the ends of the\\nearth, and shall say, Surely our fathers have inherited lies, vanity,\\nand things wherein there is no profit. 20 Shall a man make gods unto himself, and they are no gods? 21\\nTherefore, behold, I will this once cause them to know, I will cause\\nthem to know mine hand and my might; and they shall know that my name\\nis The LORD.',\n",
       " '20 Shall a man make gods unto himself, and they are no gods? 21\\nTherefore, behold, I will this once cause them to know, I will cause\\nthem to know mine hand and my might; and they shall know that my name\\nis The LORD. 1 The sin of Judah is written with a pen of iron, and with the\\npoint of a diamond.',\n",
       " '13 O LORD, the hope of Israel, all that forsake thee shall be\\nashamed, and they that depart from me shall be written in the earth,\\nbecause they have forsaken the LORD, the fountain of living waters. 14 Heal me, O LORD, and I shall be healed; save me, and I shall be\\nsaved. for thou art my praise.',\n",
       " '14 Heal me, O LORD, and I shall be healed; save me, and I shall be\\nsaved. for thou art my praise. 15 Behold, they say unto me, Where is the word of the LORD?',\n",
       " 'for thou art my praise. 15 Behold, they say unto me, Where is the word of the LORD? let it\\ncome now.',\n",
       " 'bring\\nupon them the day of evil, and destroy them with double destruction. 19 Thus said the LORD unto me; Go and stand in the gate of the\\nchildren of the people, whereby the kings of Judah come in, and by the\\nwhich they go out, and in all the gates of Jerusalem; 17. 20 And say\\nunto them, Hear ye the word of the LORD, ye kings of Judah, and all\\nJudah, and all the inhabitants of Jerusalem, that enter in by these\\ngates.',\n",
       " '19 Thus said the LORD unto me; Go and stand in the gate of the\\nchildren of the people, whereby the kings of Judah come in, and by the\\nwhich they go out, and in all the gates of Jerusalem; 17. 20 And say\\nunto them, Hear ye the word of the LORD, ye kings of Judah, and all\\nJudah, and all the inhabitants of Jerusalem, that enter in by these\\ngates. 21 Thus saith the LORD; Take heed to yourselves, and bear no\\nburden on the sabbath day, nor bring it in by the gates of Jerusalem;\\n17.',\n",
       " '13 And the\\nprophets shall become wind, and the word is not in them. thus shall it\\nbe done unto them. 14 Wherefore thus saith the LORD God of hosts, Because ye speak this\\nword, behold, I will make my words in thy mouth fire, and this people\\nwood, and it shall devour them.',\n",
       " \"1 The word which came to Jeremiah from the LORD, saying, 18. 2\\nArise, and go down to the potter's house, and there I will cause thee\\nto hear my words. 3 Then I went down to the potter's house, and, behold, he wrought a\\nwork on the wheels.\",\n",
       " 'they shall\\nimpoverish thy fenced cities, wherein thou trustedst, with the sword. 18 Nevertheless in those days, saith the LORD, I will not make a\\nfull end with you. 19 And it shall come to pass, when ye shall say, Wherefore doeth the\\nLORD our God all these things unto us?',\n",
       " '16 Now when I had delivered the evidence of the purchase unto\\nBaruch the son of Neriah, I prayed unto the LORD, saying, 32. 17 Ah\\nLord GOD! behold, thou hast made the heaven and the earth by thy great\\npower and stretched out arm, and there is nothing too hard for thee.',\n",
       " '24 Behold the mounts, they\\nare come unto the city to take it; and the city is given into the hand\\nof the Chaldeans, that fight against it, because of the sword, and of\\nthe famine, and of the pestilence. and what thou hast spoken is come\\nto pass; and, behold, thou seest it. 25 And thou hast said unto me, O Lord GOD, Buy thee the field for\\nmoney, and take witnesses; for the city is given into the hand of the\\nChaldeans.',\n",
       " \"1 Thus saith the LORD, Go and get a potter's earthen bottle, and\\ntake of the ancients of the people, and of the ancients of the\\npriests; 19. 2 And go forth unto the valley of the son of Hinnom, which\\nis by the entry of the east gate, and proclaim there the words that I\\nshall tell thee, 19. 3 And say, Hear ye the word of the LORD, O kings\\nof Judah, and inhabitants of Jerusalem; Thus saith the LORD of hosts,\\nthe God of Israel; Behold, I will bring evil upon this place, the\\nwhich whosoever heareth, his ears shall tingle.\",\n",
       " '4 Wherefore gloriest thou in the valleys, thy flowing valley, O\\nbacksliding daughter? that trusted in her treasures, saying, Who shall\\ncome unto me? 5 Behold, I will bring a fear upon thee, saith the\\nLord GOD of hosts, from all those that be about thee; and ye shall be\\ndriven out every man right forth; and none shall gather up him that\\nwandereth.',\n",
       " 'that trusted in her treasures, saying, Who shall\\ncome unto me? 5 Behold, I will bring a fear upon thee, saith the\\nLord GOD of hosts, from all those that be about thee; and ye shall be\\ndriven out every man right forth; and none shall gather up him that\\nwandereth. 6 And afterward I will bring again the captivity of the children of\\nAmmon, saith the LORD.',\n",
       " \"14 Then came Jeremiah from Tophet, whither the LORD had sent him to\\nprophesy; and he stood in the court of the LORD's house; and said to\\nall the people, 19. 15 Thus saith the LORD of hosts, the God of Israel;\\nBehold, I will bring upon this city and upon all her towns all the\\nevil that I have pronounced against it, because they have hardened\\ntheir necks, that they might not hear my words. 1 Now Pashur the son of Immer the priest, who was also chief\\ngovernor in the house of the LORD, heard that Jeremiah prophesied\\nthese things.\",\n",
       " '2 Then Pashur smote Jeremiah the prophet, and put him in the stocks\\nthat were in the high gate of Benjamin, which was by the house of the\\nLORD. 3 And it came to pass on the morrow, that Pashur brought forth\\nJeremiah out of the stocks. Then said Jeremiah unto him, The LORD hath\\nnot called thy name Pashur, but Magormissabib.',\n",
       " '3 And it came to pass on the morrow, that Pashur brought forth\\nJeremiah out of the stocks. Then said Jeremiah unto him, The LORD hath\\nnot called thy name Pashur, but Magormissabib. 4 For thus saith the LORD, Behold, I will make thee a terror to\\nthyself, and to all thy friends.',\n",
       " 'Then said Jeremiah unto him, The LORD hath\\nnot called thy name Pashur, but Magormissabib. 4 For thus saith the LORD, Behold, I will make thee a terror to\\nthyself, and to all thy friends. and they shall fall by the sword of\\ntheir enemies, and thine eyes shall behold it.',\n",
       " 'make thee mourning, as for an only son, most bitter\\nlamentation. for the spoiler shall suddenly come upon us. 27 I have set thee for a tower and a fortress among my people, that\\nthou mayest know and try their way.',\n",
       " 'for the spoiler shall suddenly come upon us. 27 I have set thee for a tower and a fortress among my people, that\\nthou mayest know and try their way. 28 They are all grievous revolters, walking with slanders.',\n",
       " 'for the wicked are not plucked away. 30 Reprobate silver shall men call them, because the LORD hath\\nrejected them. 1 The word that came to Jeremiah from the LORD, saying, 7.',\n",
       " \"30 Reprobate silver shall men call them, because the LORD hath\\nrejected them. 1 The word that came to Jeremiah from the LORD, saying, 7. 2 Stand in\\nthe gate of the LORD's house, and proclaim there this word, and say,\\nHear the word of the LORD, all ye of Judah, that enter in at these\\ngates to worship the LORD.\",\n",
       " '5 But thou\\nshalt die in peace. and with the burnings of thy fathers, the former\\nkings which were before thee, so shall they burn odours for thee; and\\nthey will lament thee, saying, Ah lord! for I have pronounced the\\nword, saith the LORD.',\n",
       " '1 The word which came\\nunto Jeremiah from the LORD, when king Zedekiah sent unto him Pashur\\nthe son of Melchiah, and Zephaniah the son of Maaseiah the priest,\\nsaying, 21. 2 Enquire, I pray thee, of the LORD for us; for\\nNebuchadrezzar king of Babylon maketh war against us; if so be that\\nthe LORD will deal with us according to all his wondrous works, that\\nhe may go up from us. 3 Then said Jeremiah unto them, Thus shall ye say to Zedekiah.',\n",
       " '8 Behold, ye trust in lying words, that cannot profit. 9 Will ye steal, murder, and commit adultery, and swear falsely, and\\nburn incense unto Baal, and walk after other gods whom ye know not;\\n7. 10 And come and stand before me in this house, which is called by my\\nname, and say, We are delivered to do all these abominations?',\n",
       " '10 And come and stand before me in this house, which is called by my\\nname, and say, We are delivered to do all these abominations? 11 Is\\nthis house, which is called by my name, become a den of robbers in\\nyour eyes? Behold, even I have seen it, saith the LORD.',\n",
       " 'and I will\\nkindle a fire in the forest thereof, and it shall devour all things\\nround about it. 1 Thus saith the LORD; Go down to the house of the king of Judah,\\nand speak there this word, 22. 2 And say, Hear the word of the LORD, O\\nking of Judah, that sittest upon the throne of David, thou, and thy\\nservants, and thy people that enter in by these gates.',\n",
       " '21 Thus saith the LORD of hosts, the God of Israel; Put your burnt\\nofferings unto your sacrifices, and eat flesh. 22 For I spake not unto your fathers, nor commanded them in the day\\nthat I brought them out of the land of Egypt, concerning burnt\\nofferings or sacrifices. 23 But this thing commanded I them, saying,\\nObey my voice, and I will be your God, and ye shall be my people.',\n",
       " '22 For I spake not unto your fathers, nor commanded them in the day\\nthat I brought them out of the land of Egypt, concerning burnt\\nofferings or sacrifices. 23 But this thing commanded I them, saying,\\nObey my voice, and I will be your God, and ye shall be my people. and\\nwalk ye in all the ways that I have commanded you, that it may be well\\nunto you.',\n",
       " '22 Behold, I will command, saith the LORD, and cause them to return\\nto this city; and they shall fight against it, and take it, and burn\\nit with fire. and I will make the cities of Judah a desolation without\\nan inhabitant. 1 The word which came unto Jeremiah from the LORD in the days of\\nJehoiakim the son of Josiah king of Judah, saying, 35.',\n",
       " '27 Therefore thou shalt speak all these words unto them; but they\\nwill not hearken to thee. thou shalt also call unto them; but they\\nwill not answer thee. 28 But thou shalt say unto them, This is a nation that obeyeth not\\nthe voice of the LORD their God, nor receiveth correction.',\n",
       " 'thou shalt also call unto them; but they\\nwill not answer thee. 28 But thou shalt say unto them, This is a nation that obeyeth not\\nthe voice of the LORD their God, nor receiveth correction. truth is\\nperished, and is cut off from their mouth.',\n",
       " 'they shall\\nremove, they shall depart, both man and beast. 4 In those days, and in that time, saith the LORD, the children of\\nIsrael shall come, they and the children of Judah together, going and\\nweeping. they shall go, and seek the LORD their God.',\n",
       " '16 Because the sons of Jonadab the son of Rechab have performed the\\ncommandment of their father, which he commanded them; but this people\\nhath not hearkened unto me. 17 Therefore thus saith the LORD God of\\nhosts, the God of Israel; Behold, I will bring upon Judah and upon all\\nthe inhabitants of Jerusalem all the evil that I have pronounced\\nagainst them. because I have spoken unto them, but they have not\\nheard; and I have called unto them, but they have not answered.',\n",
       " '4 Moreover thou shalt say unto them, Thus saith the LORD; Shall they\\nfall, and not arise? shall he turn away, and not return? 5 Why then\\nis this people of Jerusalem slidden back by a perpetual backsliding?',\n",
       " \"and Baruch wrote\\nfrom the mouth of Jeremiah all the words of the LORD, which he had\\nspoken unto him, upon a roll of a book. 5 And Jeremiah commanded Baruch, saying, I am shut up; I cannot go\\ninto the house of the LORD. 6 Therefore go thou, and read in the\\nroll, which thou hast written from my mouth, the words of the LORD in\\nthe ears of the people in the LORD's house upon the fasting day.\",\n",
       " '24 I have laid a\\nsnare for thee, and thou art also taken, O Babylon, and thou wast not\\naware. thou art found, and also caught, because thou hast striven\\nagainst the LORD. 25 The LORD hath opened his armoury, and hath brought forth the\\nweapons of his indignation.',\n",
       " '6 In his days Judah shall be saved, and Israel shall dwell safely. and this is his name whereby he shall be called, THE LORD OUR\\nRIGHTEOUSNESS. 7 Therefore, behold, the days come, saith the LORD, that they shall\\nno more say, The LORD liveth, which brought up the children of Israel\\nout of the land of Egypt; 23.',\n",
       " 'and this is his name whereby he shall be called, THE LORD OUR\\nRIGHTEOUSNESS. 7 Therefore, behold, the days come, saith the LORD, that they shall\\nno more say, The LORD liveth, which brought up the children of Israel\\nout of the land of Egypt; 23. 8 But, The LORD liveth, which brought up\\nand which led the seed of the house of Israel out of the north\\ncountry, and from all countries whither I had driven them; and they\\nshall dwell in their own land.',\n",
       " '7 Therefore, behold, the days come, saith the LORD, that they shall\\nno more say, The LORD liveth, which brought up the children of Israel\\nout of the land of Egypt; 23. 8 But, The LORD liveth, which brought up\\nand which led the seed of the house of Israel out of the north\\ncountry, and from all countries whither I had driven them; and they\\nshall dwell in their own land. 9 Mine heart within me is broken because of the prophets; all my\\nbones shake; I am like a drunken man, and like a man whom wine hath\\novercome, because of the LORD, and because of the words of his\\nholiness.',\n",
       " \"and when the\\nChaldeans that besieged Jerusalem heard tidings of them, they departed\\nfrom Jerusalem. 6 Then came the word of the LORD unto the prophet Jeremiah saying,\\n37. 7 Thus saith the LORD, the God of Israel; Thus shall ye say to the\\nking of Judah, that sent you unto me to enquire of me; Behold,\\nPharaoh's army, which is come forth to help you, shall return to Egypt\\ninto their own land.\",\n",
       " 'I have not spoken\\nto them, yet they prophesied. 22 But if they had stood in my counsel, and had caused my people to\\nhear my words, then they should have turned them from their evil way,\\nand from the evil of their doings. 23 Am I a God at hand, saith the LORD, and not a God afar off?',\n",
       " \"6 Then came the word of the LORD unto the prophet Jeremiah saying,\\n37. 7 Thus saith the LORD, the God of Israel; Thus shall ye say to the\\nking of Judah, that sent you unto me to enquire of me; Behold,\\nPharaoh's army, which is come forth to help you, shall return to Egypt\\ninto their own land. 8 And the Chaldeans shall come again, and fight against this city,\\nand take it, and burn it with fire.\",\n",
       " \"7 Thus saith the LORD, the God of Israel; Thus shall ye say to the\\nking of Judah, that sent you unto me to enquire of me; Behold,\\nPharaoh's army, which is come forth to help you, shall return to Egypt\\ninto their own land. 8 And the Chaldeans shall come again, and fight against this city,\\nand take it, and burn it with fire. 9 Thus saith the LORD; Deceive not yourselves, saying, The\\nChaldeans shall surely depart from us.\",\n",
       " 'saith the LORD. 25 I have heard what the prophets said, that prophesy lies in my\\nname, saying, I have dreamed, I have dreamed. 26 How long shall this be in the heart of the prophets that\\nprophesy lies?',\n",
       " '12 Then\\nJeremiah went forth out of Jerusalem to go into the land of Benjamin,\\nto separate himself thence in the midst of the people. 13 And when he was in the gate of Benjamin, a captain of the ward\\nwas there, whose name was Irijah, the son of Shelemiah, the son of\\nHananiah; and he took Jeremiah the prophet, saying, Thou fallest away\\nto the Chaldeans. 14 Then said Jeremiah, It is false; I fall not away to the\\nChaldeans.',\n",
       " 'for, said he, thou shalt be delivered into the hand of the\\nking of Babylon. 18 Moreover Jeremiah said unto king Zedekiah, What have I offended\\nagainst thee, or against thy servants, or against this people, that ye\\nhave put me in prison? 19 Where are now your prophets which\\nprophesied unto you, saying, The king of Babylon shall not come\\nagainst you, nor against this land?',\n",
       " '18 Moreover Jeremiah said unto king Zedekiah, What have I offended\\nagainst thee, or against thy servants, or against this people, that ye\\nhave put me in prison? 19 Where are now your prophets which\\nprophesied unto you, saying, The king of Babylon shall not come\\nagainst you, nor against this land? 20 Therefore hear now, I pray\\nthee, O my lord the king.',\n",
       " 'therefore\\nthey shall not profit this people at all, saith the LORD. 33 And when this people, or the prophet, or a priest, shall ask\\nthee, saying, What is the burden of the LORD? thou shalt then say unto\\nthem, What burden?',\n",
       " '33 And when this people, or the prophet, or a priest, shall ask\\nthee, saying, What is the burden of the LORD? thou shalt then say unto\\nthem, What burden? I will even forsake you, saith the LORD.',\n",
       " 'thou shalt then say unto\\nthem, What burden? I will even forsake you, saith the LORD. 34 And as for the prophet, and the priest, and the people, that\\nshall say, The burden of the LORD, I will even punish that man and his\\nhouse.',\n",
       " '34 And as for the prophet, and the priest, and the people, that\\nshall say, The burden of the LORD, I will even punish that man and his\\nhouse. 35 Thus shall ye say every one to his neighbour, and every one to\\nhis brother, What hath the LORD answered? and, What hath the LORD\\nspoken?',\n",
       " 'Thus Jeremiah remained in the court of the prison. 1 Then Shephatiah the son of Mattan, and Gedaliah the son of\\nPashur, and Jucal the son of Shelemiah, and Pashur the son of\\nMalchiah, heard the words that Jeremiah had spoken unto all the\\npeople, saying, 38. 2 Thus saith the LORD, He that remaineth in this\\ncity shall die by the sword, by the famine, and by the pestilence.',\n",
       " '1 Then Shephatiah the son of Mattan, and Gedaliah the son of\\nPashur, and Jucal the son of Shelemiah, and Pashur the son of\\nMalchiah, heard the words that Jeremiah had spoken unto all the\\npeople, saying, 38. 2 Thus saith the LORD, He that remaineth in this\\ncity shall die by the sword, by the famine, and by the pestilence. but\\nhe that goeth forth to the Chaldeans shall live; for he shall have his\\nlife for a prey, and shall live.',\n",
       " \"36 And the burden of the LORD shall ye mention no more. for every man's word shall be his burden; for ye have perverted the\\nwords of the living God, of the LORD of hosts our God. 37 Thus shalt thou say to the prophet, What hath the LORD answered\\nthee?\",\n",
       " '6 Forasmuch as there is none like unto thee, O LORD; thou art\\ngreat, and thy name is great in might. 7 Who would not fear thee, O King of nations? for to thee doth it\\nappertain.',\n",
       " \"for every man's word shall be his burden; for ye have perverted the\\nwords of the living God, of the LORD of hosts our God. 37 Thus shalt thou say to the prophet, What hath the LORD answered\\nthee? and, What hath the LORD spoken?\",\n",
       " '37 Thus shalt thou say to the prophet, What hath the LORD answered\\nthee? and, What hath the LORD spoken? 38 But since ye say, The\\nburden of the LORD; therefore thus saith the LORD; Because ye say this\\nword, The burden of the LORD, and I have sent unto you, saying, Ye\\nshall not say, The burden of the LORD; 23.',\n",
       " 'for this man seeketh not the welfare of\\nthis people, but the hurt. 5 Then Zedekiah the king said, Behold, he is in your hand. for the\\nking is not he that can do any thing against you.',\n",
       " '10 And I will send the sword, the famine, and the pestilence, among\\nthem, till they be consumed from off the land that I gave unto them\\nand to their fathers. 1 The word that came to Jeremiah concerning all the people of Judah\\nin the fourth year of Jehoiakim the son of Josiah king of Judah, that\\nwas the first year of Nebuchadrezzar king of Babylon; 25. 2 The which\\nJeremiah the prophet spake unto all the people of Judah, and to all\\nthe inhabitants of Jerusalem, saying, 25.',\n",
       " '14 Then Zedekiah the king sent, and took Jeremiah the prophet unto\\nhim into the third entry that is in the house of the LORD. and the\\nking said unto Jeremiah, I will ask thee a thing; hide nothing from\\nme. 15 Then Jeremiah said unto Zedekiah, If I declare it unto thee,\\nwilt thou not surely put me to death?',\n",
       " '2 The which\\nJeremiah the prophet spake unto all the people of Judah, and to all\\nthe inhabitants of Jerusalem, saying, 25. 3 From the thirteenth year of\\nJosiah the son of Amon king of Judah, even unto this day, that is the\\nthree and twentieth year, the word of the LORD hath come unto me, and\\nI have spoken unto you, rising early and speaking; but ye have not\\nhearkened. 4 And the LORD hath sent unto you all his servants the prophets,\\nrising early and sending them; but ye have not hearkened, nor inclined\\nyour ear to hear.',\n",
       " '15 Then Jeremiah said unto Zedekiah, If I declare it unto thee,\\nwilt thou not surely put me to death? and if I give thee counsel, wilt\\nthou not hearken unto me? 16 So Zedekiah the king sware secretly\\nunto Jeremiah, saying, As the LORD liveth, that made us this soul, I\\nwill not put thee to death, neither will I give thee into the hand of\\nthese men that seek thy life.',\n",
       " '20 But Jeremiah said, They shall not deliver thee. Obey, I beseech\\nthee, the voice of the LORD, which I speak unto thee. so it shall be\\nwell unto thee, and thy soul shall live.',\n",
       " 'Obey, I beseech\\nthee, the voice of the LORD, which I speak unto thee. so it shall be\\nwell unto thee, and thy soul shall live. 21 But if thou refuse to go forth, this is the word that the LORD\\nhath shewed me.',\n",
       " \"so it shall be\\nwell unto thee, and thy soul shall live. 21 But if thou refuse to go forth, this is the word that the LORD\\nhath shewed me. 22 And, behold, all the women that are left in the\\nking of Judah's house shall be brought forth to the king of Babylon's\\nprinces, and those women shall say, Thy friends have set thee on, and\\nhave prevailed against thee.\",\n",
       " \"21 But if thou refuse to go forth, this is the word that the LORD\\nhath shewed me. 22 And, behold, all the women that are left in the\\nking of Judah's house shall be brought forth to the king of Babylon's\\nprinces, and those women shall say, Thy friends have set thee on, and\\nhave prevailed against thee. thy feet are sunk in the mire, and they\\nare turned away back.\",\n",
       " \"22 And, behold, all the women that are left in the\\nking of Judah's house shall be brought forth to the king of Babylon's\\nprinces, and those women shall say, Thy friends have set thee on, and\\nhave prevailed against thee. thy feet are sunk in the mire, and they\\nare turned away back. 23 So they shall bring out all thy wives and thy children to the\\nChaldeans.\",\n",
       " 'thy feet are sunk in the mire, and they\\nare turned away back. 23 So they shall bring out all thy wives and thy children to the\\nChaldeans. and thou shalt not escape out of their hand, but shalt be\\ntaken by the hand of the king of Babylon.',\n",
       " '23 So they shall bring out all thy wives and thy children to the\\nChaldeans. and thou shalt not escape out of their hand, but shalt be\\ntaken by the hand of the king of Babylon. and thou shalt cause this\\ncity to be burned with fire.',\n",
       " 'it is not\\nin man that walketh to direct his steps. 24 O LORD, correct me, but with judgment; not in thine anger, lest\\nthou bring me to nothing. 25 Pour out thy fury upon the heathen that know thee not, and upon\\nthe families that call not on thy name.',\n",
       " '1 The word that came to Jeremiah from the LORD saying, 11. 2 Hear ye\\nthe words of this covenant, and speak unto the men of Judah, and to\\nthe inhabitants of Jerusalem; 11. 3 And say thou unto them, Thus saith\\nthe LORD God of Israel; Cursed be the man that obeyeth not the words\\nof this covenant, 11.',\n",
       " 'and he was there when Jerusalem was taken. 1 In the ninth year of Zedekiah king of Judah, in the tenth month,\\ncame Nebuchadrezzar king of Babylon and all his army against\\nJerusalem, and they besieged it. 2 And in the eleventh year of Zedekiah, in the fourth month, the\\nninth day of the month, the city was broken up.',\n",
       " '27 Therefore thou shalt say unto them, Thus saith the LORD of\\nhosts, the God of Israel; Drink ye, and be drunken, and spue, and\\nfall, and rise no more, because of the sword which I will send among\\nyou. 28 And it shall be, if they refuse to take the cup at thine hand to\\ndrink, then shalt thou say unto them, Thus saith the LORD of hosts; Ye\\nshall certainly drink. 29 For, lo, I begin to bring evil on the city which is called by my\\nname, and should ye be utterly unpunished?',\n",
       " '28 And it shall be, if they refuse to take the cup at thine hand to\\ndrink, then shalt thou say unto them, Thus saith the LORD of hosts; Ye\\nshall certainly drink. 29 For, lo, I begin to bring evil on the city which is called by my\\nname, and should ye be utterly unpunished? Ye shall not be unpunished.',\n",
       " '9 Then Nebuzaradan the captain of the guard carried away captive\\ninto Babylon the remnant of the people that remained in the city, and\\nthose that fell away, that fell to him, with the rest of the people\\nthat remained. 10 But Nebuzaradan the captain of the guard left of the poor of the\\npeople, which had nothing, in the land of Judah, and gave them\\nvineyards and fields at the same time. 11 Now Nebuchadrezzar king of Babylon gave charge concerning\\nJeremiah to Nebuzaradan the captain of the guard, saying, 39.',\n",
       " 'so he dwelt among the\\npeople. 15 Now the word of the LORD came unto Jeremiah, while he was shut\\nup in the court of the prison, saying, 39. 16 Go and speak to\\nEbedmelech the Ethiopian, saying, Thus saith the LORD of hosts, the\\nGod of Israel; Behold, I will bring my words upon this city for evil,\\nand not for good; and they shall be accomplished in that day before\\nthee.',\n",
       " '20 But, O LORD of hosts, that judgest righteously, that triest the\\nreins and the heart, let me see thy vengeance on them. for unto thee\\nhave I revealed my cause. 21 Therefore thus saith the LORD of the men of Anathoth, that seek\\nthy life, saying, Prophesy not in the name of the LORD, that thou die\\nnot by our hand.',\n",
       " 'for unto thee\\nhave I revealed my cause. 21 Therefore thus saith the LORD of the men of Anathoth, that seek\\nthy life, saying, Prophesy not in the name of the LORD, that thou die\\nnot by our hand. 22 Therefore thus saith the LORD of hosts, Behold,\\nI will punish them.',\n",
       " '21 Therefore thus saith the LORD of the men of Anathoth, that seek\\nthy life, saying, Prophesy not in the name of the LORD, that thou die\\nnot by our hand. 22 Therefore thus saith the LORD of hosts, Behold,\\nI will punish them. the young men shall die by the sword; their sons\\nand their daughters shall die by famine.',\n",
       " '22 Therefore thus saith the LORD of hosts, Behold,\\nI will punish them. the young men shall die by the sword; their sons\\nand their daughters shall die by famine. 23 And there shall be no\\nremnant of them.',\n",
       " '4 And thou shalt say unto them, Thus saith the LORD; If ye will not\\nhearken to me, to walk in my law, which I have set before you, 26. 5 To\\nhearken to the words of my servants the prophets, whom I sent unto\\nyou, both rising up early, and sending them, but ye have not\\nhearkened; 26. 6 Then will I make this house like Shiloh, and will make\\nthis city a curse to all the nations of the earth.',\n",
       " '6 Then will I make this house like Shiloh, and will make\\nthis city a curse to all the nations of the earth. 7 So the priests and the prophets and all the people heard Jeremiah\\nspeaking these words in the house of the LORD. 8 Now it came to pass, when Jeremiah had made an end of speaking\\nall that the LORD had commanded him to speak unto all the people, that\\nthe priests and the prophets and all the people took him, saying, Thou\\nshalt surely die.',\n",
       " '7 So the priests and the prophets and all the people heard Jeremiah\\nspeaking these words in the house of the LORD. 8 Now it came to pass, when Jeremiah had made an end of speaking\\nall that the LORD had commanded him to speak unto all the people, that\\nthe priests and the prophets and all the people took him, saying, Thou\\nshalt surely die. 9 Why hast thou prophesied in the name of the LORD, saying, This\\nhouse shall be like Shiloh, and this city shall be desolate without an\\ninhabitant?',\n",
       " '8 Now it came to pass, when Jeremiah had made an end of speaking\\nall that the LORD had commanded him to speak unto all the people, that\\nthe priests and the prophets and all the people took him, saying, Thou\\nshalt surely die. 9 Why hast thou prophesied in the name of the LORD, saying, This\\nhouse shall be like Shiloh, and this city shall be desolate without an\\ninhabitant? And all the people were gathered against Jeremiah in the\\nhouse of the LORD.',\n",
       " \"And all the people were gathered against Jeremiah in the\\nhouse of the LORD. 10 When the princes of Judah heard these things, then they came up\\nfrom the king's house unto the house of the LORD, and sat down in the\\nentry of the new gate of the LORD's house. 11 Then spake the priests and the prophets unto the princes and to\\nall the people, saying, This man is worthy to die; for he hath\\nprophesied against this city, as ye have heard with your ears.\"]"
      ]
     },
     "execution_count": 35,
     "metadata": {},
     "output_type": "execute_result"
    }
   ],
   "source": [
    "reducedBooks['jeremiah-1']"
   ]
  },
  {
   "cell_type": "code",
   "execution_count": 37,
   "metadata": {},
   "outputs": [
    {
     "name": "stdout",
     "output_type": "stream",
     "text": [
      "over\n",
      "over\n",
      "over\n",
      "over\n",
      "over\n",
      "over\n",
      "over\n",
      "over\n",
      "over\n",
      "over\n",
      "over\n",
      "over\n",
      "over\n",
      "over\n",
      "over\n",
      "over\n",
      "over\n",
      "over\n",
      "over\n",
      "over\n",
      "over\n",
      "over\n",
      "over\n",
      "over\n",
      "over\n",
      "over\n",
      "over\n",
      "over\n",
      "over\n",
      "over\n",
      "over\n",
      "over\n",
      "over\n",
      "over\n",
      "over\n",
      "over\n",
      "over\n",
      "over\n",
      "over\n",
      "over\n"
     ]
    }
   ],
   "source": [
    "parseTrees,parseWithoutTokenTrees=d.parseNewBook(textChunks)"
   ]
  },
  {
   "cell_type": "code",
   "execution_count": 38,
   "metadata": {},
   "outputs": [
    {
     "data": {
      "text/plain": [
       "40"
      ]
     },
     "execution_count": 38,
     "metadata": {},
     "output_type": "execute_result"
    }
   ],
   "source": [
    "len(parseTrees)"
   ]
  },
  {
   "cell_type": "code",
   "execution_count": 39,
   "metadata": {},
   "outputs": [
    {
     "data": {
      "text/plain": [
       "40"
      ]
     },
     "execution_count": 39,
     "metadata": {},
     "output_type": "execute_result"
    }
   ],
   "source": [
    "len(parseWithoutTokenTrees)"
   ]
  },
  {
   "cell_type": "code",
   "execution_count": 40,
   "metadata": {},
   "outputs": [
    {
     "data": {
      "text/plain": [
       "43"
      ]
     },
     "execution_count": 40,
     "metadata": {},
     "output_type": "execute_result"
    }
   ],
   "source": [
    "s=0\n",
    "for m in parseTrees:\n",
    "    s=s+len(m)\n",
    "s"
   ]
  },
  {
   "cell_type": "code",
   "execution_count": 41,
   "metadata": {},
   "outputs": [
    {
     "data": {
      "text/plain": [
       "3"
      ]
     },
     "execution_count": 41,
     "metadata": {},
     "output_type": "execute_result"
    }
   ],
   "source": [
    "len(parseTrees[0][0])"
   ]
  },
  {
   "cell_type": "code",
   "execution_count": null,
   "metadata": {},
   "outputs": [],
   "source": [
    "potentialParseTrees,potentialParseWithoutTokenTrees=d.parseCandidates(reducedBooks)"
   ]
  },
  {
   "cell_type": "code",
   "execution_count": null,
   "metadata": {},
   "outputs": [],
   "source": [
    "len(potentialParseTrees['isaiah'][0])"
   ]
  },
  {
   "cell_type": "code",
   "execution_count": null,
   "metadata": {},
   "outputs": [],
   "source": [
    "syntacticScore,syntacticScoreWithoutTokens=d.syntacticScoring(parseTrees,potentialParseTrees,parseWithoutTokenTrees,potentialParseWithoutTokenTrees)"
   ]
  },
  {
   "cell_type": "code",
   "execution_count": null,
   "metadata": {},
   "outputs": [],
   "source": [
    "semanticScore=d.semanticScoring(spacyText,reducedSpacyBooks,monolingual=True,lang1='english',lang2='english')"
   ]
  },
  {
   "cell_type": "code",
   "execution_count": null,
   "metadata": {},
   "outputs": [],
   "source": [
    "len(syntacticScore[0]['isaiah'])"
   ]
  },
  {
   "cell_type": "code",
   "execution_count": null,
   "metadata": {},
   "outputs": [],
   "source": [
    "len(semanticScore)"
   ]
  },
  {
   "cell_type": "code",
   "execution_count": null,
   "metadata": {},
   "outputs": [],
   "source": [
    "len(semanticScore[-1]['jeremiah-1'])"
   ]
  },
  {
   "cell_type": "code",
   "execution_count": null,
   "metadata": {},
   "outputs": [],
   "source": [
    "lcsScore,lcs=d.longestSubsequenceScoring(textPara,reducedBooks)"
   ]
  },
  {
   "cell_type": "code",
   "execution_count": null,
   "metadata": {},
   "outputs": [],
   "source": [
    "len(lcsScore)"
   ]
  },
  {
   "cell_type": "code",
   "execution_count": null,
   "metadata": {},
   "outputs": [],
   "source": [
    "len(lcs)"
   ]
  },
  {
   "cell_type": "code",
   "execution_count": null,
   "metadata": {},
   "outputs": [],
   "source": [
    "scoreTuples=d.aggregateScoring(syntacticScore,semanticScore,lcsScore,lcs,syntacticScoreWithoutTokens)"
   ]
  },
  {
   "cell_type": "code",
   "execution_count": null,
   "metadata": {},
   "outputs": [],
   "source": []
  }
 ],
 "metadata": {
  "kernelspec": {
   "display_name": "Python personal",
   "language": "python",
   "name": "py3env"
  },
  "language_info": {
   "codemirror_mode": {
    "name": "ipython",
    "version": 3
   },
   "file_extension": ".py",
   "mimetype": "text/x-python",
   "name": "python",
   "nbconvert_exporter": "python",
   "pygments_lexer": "ipython3",
   "version": "3.6.5"
  }
 },
 "nbformat": 4,
 "nbformat_minor": 2
}
